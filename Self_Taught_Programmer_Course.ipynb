{
  "nbformat": 4,
  "nbformat_minor": 0,
  "metadata": {
    "colab": {
      "name": "Self-Taught Programmer Course",
      "provenance": [],
      "collapsed_sections": [
        "J6DUCHN5uCrB",
        "Sz1hpJDodObX",
        "lfLHlNPnj5oI",
        "ZlDA1X74kAFA"
      ],
      "toc_visible": true,
      "authorship_tag": "ABX9TyNwVbSRvunLYEudKNn3N+3t",
      "include_colab_link": true
    },
    "kernelspec": {
      "name": "python3",
      "display_name": "Python 3"
    }
  },
  "cells": [
    {
      "cell_type": "markdown",
      "metadata": {
        "id": "view-in-github",
        "colab_type": "text"
      },
      "source": [
        "<a href=\"https://colab.research.google.com/github/deepank120896/Learn-Python/blob/master/Self_Taught_Programmer_Course.ipynb\" target=\"_parent\"><img src=\"https://colab.research.google.com/assets/colab-badge.svg\" alt=\"Open In Colab\"/></a>"
      ]
    },
    {
      "cell_type": "markdown",
      "metadata": {
        "id": "J6DUCHN5uCrB",
        "colab_type": "text"
      },
      "source": [
        "# Introduction"
      ]
    },
    {
      "cell_type": "code",
      "metadata": {
        "id": "GD1Eidq3ue27",
        "colab_type": "code",
        "outputId": "aebc672b-c753-400d-be97-995d720c8271",
        "colab": {
          "base_uri": "https://localhost:8080/",
          "height": 34
        }
      },
      "source": [
        "print(\"Hello, World!\")"
      ],
      "execution_count": 0,
      "outputs": [
        {
          "output_type": "stream",
          "text": [
            "Hello, World!\n"
          ],
          "name": "stdout"
        }
      ]
    },
    {
      "cell_type": "markdown",
      "metadata": {
        "id": "0Al9KHWhu7mV",
        "colab_type": "text"
      },
      "source": [
        ""
      ]
    },
    {
      "cell_type": "markdown",
      "metadata": {
        "id": "Sz1hpJDodObX",
        "colab_type": "text"
      },
      "source": [
        "# Assignment 1"
      ]
    },
    {
      "cell_type": "markdown",
      "metadata": {
        "id": "Jfn16jaPdROp",
        "colab_type": "text"
      },
      "source": [
        "Write a program that asks the user to type a number, convert it to an integer, and print it. If you can't convert their input to an integer, print a message that says \"Please type an integer.\""
      ]
    },
    {
      "cell_type": "code",
      "metadata": {
        "id": "nuW8_lxRdUl0",
        "colab_type": "code",
        "outputId": "1f805e30-4790-42d4-9b3d-071a43ee820b",
        "colab": {
          "base_uri": "https://localhost:8080/",
          "height": 50
        }
      },
      "source": [
        "def convert(string):\n",
        "  try:\n",
        "    return int(string)\n",
        "  except Exception:\n",
        "    print(\"Please type an integer.\")\n",
        "\n",
        "string = input(\"Enter number: \")\n",
        "convert(string)\n",
        "\n",
        "\n"
      ],
      "execution_count": 0,
      "outputs": [
        {
          "output_type": "stream",
          "text": [
            "Enter number: De\n",
            "Please type an integer.\n"
          ],
          "name": "stdout"
        }
      ]
    },
    {
      "cell_type": "markdown",
      "metadata": {
        "id": "lfLHlNPnj5oI",
        "colab_type": "text"
      },
      "source": [
        "# List [ ] -mutable"
      ]
    },
    {
      "cell_type": "code",
      "metadata": {
        "id": "RnCV6zaWitNy",
        "colab_type": "code",
        "outputId": "e30825f3-290f-4ee8-fe3a-0cd116d96ba4",
        "colab": {
          "base_uri": "https://localhost:8080/",
          "height": 67
        }
      },
      "source": [
        "artists = [\"Lata\",\"Shankar\",\"AR\",\"Shan\",\"Ehsaan\"]\n",
        "print(artists)\n",
        "artists[4] = \"John Lenon\"\n",
        "print(artists)\n",
        "artists.append(\"Dance Monkey\")\n",
        "print(artists)"
      ],
      "execution_count": 0,
      "outputs": [
        {
          "output_type": "stream",
          "text": [
            "['Lata', 'Shankar', 'AR', 'Shan', 'Ehsaan']\n",
            "['Lata', 'Shankar', 'AR', 'Shan', 'John Lenon']\n",
            "['Lata', 'Shankar', 'AR', 'Shan', 'John Lenon', 'Dance Monkey']\n"
          ],
          "name": "stdout"
        }
      ]
    },
    {
      "cell_type": "markdown",
      "metadata": {
        "id": "ZlDA1X74kAFA",
        "colab_type": "text"
      },
      "source": [
        "# Tuples ( ) -immutable"
      ]
    },
    {
      "cell_type": "code",
      "metadata": {
        "id": "2j65-dTFkMDh",
        "colab_type": "code",
        "outputId": "e90c23cb-b077-48be-b84a-e9dd14e6280c",
        "colab": {
          "base_uri": "https://localhost:8080/",
          "height": 34
        }
      },
      "source": [
        "authors = (\"Premchand\",\"Rolly\",\"Sanjay\",\"Dev\",\"Karumanchi\")\n",
        "print(authors)"
      ],
      "execution_count": 0,
      "outputs": [
        {
          "output_type": "stream",
          "text": [
            "('Premchand', 'Rolly', 'Sanjay', 'Dev', 'Karumanchi')\n"
          ],
          "name": "stdout"
        }
      ]
    },
    {
      "cell_type": "markdown",
      "metadata": {
        "id": "PUe3VsOvRMIq",
        "colab_type": "text"
      },
      "source": [
        "# Dictionary { : } - mutable"
      ]
    },
    {
      "cell_type": "code",
      "metadata": {
        "id": "ycDdaQJ4S0jx",
        "colab_type": "code",
        "colab": {
          "base_uri": "https://localhost:8080/",
          "height": 34
        },
        "outputId": "ef265579-e564-402b-bad3-d12f4a88110f"
      },
      "source": [
        "me = { \"height\" : \"170\" ,\n",
        "        \"weight\" : \"72\" ,\n",
        "        \"favourite_color\" : \"red\" ,\n",
        "        \"favourite_author\" : \"none\" ,\n",
        "    }\n",
        "print(me)"
      ],
      "execution_count": 2,
      "outputs": [
        {
          "output_type": "stream",
          "text": [
            "{'height': '170', 'weight': '72', 'favourite_color': 'red', 'favourite_author': 'none'}\n"
          ],
          "name": "stdout"
        }
      ]
    },
    {
      "cell_type": "code",
      "metadata": {
        "id": "5sQa-1gVUw-M",
        "colab_type": "code",
        "colab": {
          "base_uri": "https://localhost:8080/",
          "height": 34
        },
        "outputId": "3b1cf946-4b63-4a0d-f2fb-5b0c5fdc4967"
      },
      "source": [
        "my_list = []\n",
        "delhi = (28.7041, 77.1025)\n",
        "bangalore = (12.9716, 77.5946)\n",
        "my_list.append(delhi)\n",
        "my_list.append(bangalore)\n",
        "print(my_list)"
      ],
      "execution_count": 4,
      "outputs": [
        {
          "output_type": "stream",
          "text": [
            "[(28.7041, 77.1025), (12.9716, 77.5946)]\n"
          ],
          "name": "stdout"
        }
      ]
    },
    {
      "cell_type": "markdown",
      "metadata": {
        "id": "Pd8z7CnWVQo2",
        "colab_type": "text"
      },
      "source": [
        "# Strings"
      ]
    },
    {
      "cell_type": "code",
      "metadata": {
        "id": "dWuqL5ITWOuL",
        "colab_type": "code",
        "colab": {
          "base_uri": "https://localhost:8080/",
          "height": 134
        },
        "outputId": "f1290921-8af4-4bc8-e52f-9b398611b03f"
      },
      "source": [
        "#string multiplication\n",
        "name=\"deepank\"\n",
        "lastname=\"kartikey\"\n",
        "print(name * 3)\n",
        "#string upper/lower case\n",
        "print(name.upper())\n",
        "print(name.lower())\n",
        "#string capitalize\n",
        "print(name.capitalize())\n",
        "# FORMAT METHOD\n",
        "print(\"deepank {}\".format(lastname))\n",
        "# Split string\n",
        "print(\"deep ank kart i key\".split(\" \"))\n",
        "# JOIN METHOD\n",
        "age = ['I','am','24','years','old.']\n",
        "print(\" \".join(age))\n",
        "# "
      ],
      "execution_count": 30,
      "outputs": [
        {
          "output_type": "stream",
          "text": [
            "deepankdeepankdeepank\n",
            "DEEPANK\n",
            "deepank\n",
            "Deepank\n",
            "deepank kartikey\n",
            "['deep', 'ank', 'kart', 'i', 'key']\n",
            "I am 24 years old.\n"
          ],
          "name": "stdout"
        }
      ]
    },
    {
      "cell_type": "code",
      "metadata": {
        "id": "TVQYghA_Yh5p",
        "colab_type": "code",
        "colab": {
          "base_uri": "https://localhost:8080/",
          "height": 101
        },
        "outputId": "b46abe37-272b-4f6e-82cb-8df403a40f44"
      },
      "source": [
        "word = \"Camus\"\n",
        "for i in range(len(word)):\n",
        "  print(word[i])\n"
      ],
      "execution_count": 20,
      "outputs": [
        {
          "output_type": "stream",
          "text": [
            "C\n",
            "a\n",
            "m\n",
            "u\n",
            "s\n"
          ],
          "name": "stdout"
        }
      ]
    },
    {
      "cell_type": "code",
      "metadata": {
        "id": "bycjdBrQZRau",
        "colab_type": "code",
        "colab": {
          "base_uri": "https://localhost:8080/",
          "height": 34
        },
        "outputId": "56ef0953-7ae7-4968-abdc-2dd64d5c1eaa"
      },
      "source": [
        "string = ['aldous','was','born','in','1894.']\n",
        "new_string = \" \".join(string)\n",
        "print(new_string.capitalize())"
      ],
      "execution_count": 22,
      "outputs": [
        {
          "output_type": "stream",
          "text": [
            "Aldous was born in 1894.\n"
          ],
          "name": "stdout"
        }
      ]
    },
    {
      "cell_type": "code",
      "metadata": {
        "id": "Mao7I98daMZC",
        "colab_type": "code",
        "colab": {
          "base_uri": "https://localhost:8080/",
          "height": 34
        },
        "outputId": "e6351a02-fe44-4016-94e2-41bc28f61f2b"
      },
      "source": [
        "sentence = \"Where now?Who now?When now?\"\n",
        "def getlist(sentence):\n",
        "    my_list = sentence.split(\"?\")\n",
        "    del my_list[3]\n",
        "    return my_list\n",
        "\n",
        "print(getlist(sentence))"
      ],
      "execution_count": 28,
      "outputs": [
        {
          "output_type": "stream",
          "text": [
            "['Where now', 'Who now', 'When now']\n"
          ],
          "name": "stdout"
        }
      ]
    },
    {
      "cell_type": "code",
      "metadata": {
        "id": "Xh7ntGndeLld",
        "colab_type": "code",
        "colab": {
          "base_uri": "https://localhost:8080/",
          "height": 34
        },
        "outputId": "a6b2e0b1-3ca6-45e7-cee7-012bc2312802"
      },
      "source": [
        "my_list = ['The','fox','jumped','over','the','fence','.']\n",
        "print(\" \".join(my_list))"
      ],
      "execution_count": 29,
      "outputs": [
        {
          "output_type": "stream",
          "text": [
            "The fox jumped over the fence .\n"
          ],
          "name": "stdout"
        }
      ]
    }
  ]
}