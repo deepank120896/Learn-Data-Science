{
  "nbformat": 4,
  "nbformat_minor": 0,
  "metadata": {
    "colab": {
      "name": "Self-Taught Programmer Course",
      "provenance": [],
      "collapsed_sections": [
        "J6DUCHN5uCrB",
        "Sz1hpJDodObX",
        "lfLHlNPnj5oI",
        "ZlDA1X74kAFA",
        "PUe3VsOvRMIq",
        "Pd8z7CnWVQo2",
        "tJjudByhI2QV",
        "-OXB6Ki6MWHm",
        "pKDYG1WvOAeO",
        "_v4ZhsPvZz37",
        "2vvZEsFAd76J",
        "uvIrpVLzgaw3",
        "l1s5A3wjhiuT",
        "bg_K872goORZ",
        "_Pti-B6YFJWt",
        "TTMTEyTWuhfd",
        "YzAcetumzKNk",
        "_3Cm-MyHai2N",
        "VmiGa4RmEBPo",
        "Snf8ytudL-xx"
      ],
      "toc_visible": true,
      "authorship_tag": "ABX9TyM0h2tNhcC/dOw619ajtUNh",
      "include_colab_link": true
    },
    "kernelspec": {
      "name": "python3",
      "display_name": "Python 3"
    }
  },
  "cells": [
    {
      "cell_type": "markdown",
      "metadata": {
        "id": "view-in-github",
        "colab_type": "text"
      },
      "source": [
        "<a href=\"https://colab.research.google.com/github/deepank120896/Learn-Python/blob/master/Self_Taught_Programmer_Course.ipynb\" target=\"_parent\"><img src=\"https://colab.research.google.com/assets/colab-badge.svg\" alt=\"Open In Colab\"/></a>"
      ]
    },
    {
      "cell_type": "markdown",
      "metadata": {
        "id": "J6DUCHN5uCrB",
        "colab_type": "text"
      },
      "source": [
        "# Introduction"
      ]
    },
    {
      "cell_type": "code",
      "metadata": {
        "id": "GD1Eidq3ue27",
        "colab_type": "code",
        "colab": {
          "base_uri": "https://localhost:8080/",
          "height": 34
        },
        "outputId": "aebc672b-c753-400d-be97-995d720c8271"
      },
      "source": [
        "print(\"Hello, World!\")"
      ],
      "execution_count": null,
      "outputs": [
        {
          "output_type": "stream",
          "text": [
            "Hello, World!\n"
          ],
          "name": "stdout"
        }
      ]
    },
    {
      "cell_type": "markdown",
      "metadata": {
        "id": "0Al9KHWhu7mV",
        "colab_type": "text"
      },
      "source": [
        ""
      ]
    },
    {
      "cell_type": "markdown",
      "metadata": {
        "id": "Sz1hpJDodObX",
        "colab_type": "text"
      },
      "source": [
        "# Assignment 1"
      ]
    },
    {
      "cell_type": "markdown",
      "metadata": {
        "id": "Jfn16jaPdROp",
        "colab_type": "text"
      },
      "source": [
        "Write a program that asks the user to type a number, convert it to an integer, and print it. If you can't convert their input to an integer, print a message that says \"Please type an integer.\""
      ]
    },
    {
      "cell_type": "code",
      "metadata": {
        "id": "nuW8_lxRdUl0",
        "colab_type": "code",
        "colab": {
          "base_uri": "https://localhost:8080/",
          "height": 50
        },
        "outputId": "1f805e30-4790-42d4-9b3d-071a43ee820b"
      },
      "source": [
        "def convert(string):\n",
        "  try:\n",
        "    return int(string)\n",
        "  except Exception:\n",
        "    print(\"Please type an integer.\")\n",
        "\n",
        "string = input(\"Enter number: \")\n",
        "convert(string)\n",
        "\n",
        "\n"
      ],
      "execution_count": null,
      "outputs": [
        {
          "output_type": "stream",
          "text": [
            "Enter number: De\n",
            "Please type an integer.\n"
          ],
          "name": "stdout"
        }
      ]
    },
    {
      "cell_type": "markdown",
      "metadata": {
        "id": "lfLHlNPnj5oI",
        "colab_type": "text"
      },
      "source": [
        "# List [ ] -mutable"
      ]
    },
    {
      "cell_type": "code",
      "metadata": {
        "id": "RnCV6zaWitNy",
        "colab_type": "code",
        "colab": {
          "base_uri": "https://localhost:8080/",
          "height": 67
        },
        "outputId": "e30825f3-290f-4ee8-fe3a-0cd116d96ba4"
      },
      "source": [
        "artists = [\"Lata\",\"Shankar\",\"AR\",\"Shan\",\"Ehsaan\"]\n",
        "print(artists)\n",
        "artists[4] = \"John Lenon\"\n",
        "print(artists)\n",
        "artists.append(\"Dance Monkey\")\n",
        "print(artists)"
      ],
      "execution_count": null,
      "outputs": [
        {
          "output_type": "stream",
          "text": [
            "['Lata', 'Shankar', 'AR', 'Shan', 'Ehsaan']\n",
            "['Lata', 'Shankar', 'AR', 'Shan', 'John Lenon']\n",
            "['Lata', 'Shankar', 'AR', 'Shan', 'John Lenon', 'Dance Monkey']\n"
          ],
          "name": "stdout"
        }
      ]
    },
    {
      "cell_type": "markdown",
      "metadata": {
        "id": "ZlDA1X74kAFA",
        "colab_type": "text"
      },
      "source": [
        "# Tuples ( ) -immutable"
      ]
    },
    {
      "cell_type": "code",
      "metadata": {
        "id": "2j65-dTFkMDh",
        "colab_type": "code",
        "colab": {
          "base_uri": "https://localhost:8080/",
          "height": 34
        },
        "outputId": "e90c23cb-b077-48be-b84a-e9dd14e6280c"
      },
      "source": [
        "authors = (\"Premchand\",\"Rolly\",\"Sanjay\",\"Dev\",\"Karumanchi\")\n",
        "print(authors)"
      ],
      "execution_count": null,
      "outputs": [
        {
          "output_type": "stream",
          "text": [
            "('Premchand', 'Rolly', 'Sanjay', 'Dev', 'Karumanchi')\n"
          ],
          "name": "stdout"
        }
      ]
    },
    {
      "cell_type": "markdown",
      "metadata": {
        "id": "PUe3VsOvRMIq",
        "colab_type": "text"
      },
      "source": [
        "# Dictionary { : } - mutable"
      ]
    },
    {
      "cell_type": "code",
      "metadata": {
        "id": "ycDdaQJ4S0jx",
        "colab_type": "code",
        "colab": {
          "base_uri": "https://localhost:8080/",
          "height": 34
        },
        "outputId": "ef265579-e564-402b-bad3-d12f4a88110f"
      },
      "source": [
        "me = { \"height\" : \"170\" ,\n",
        "        \"weight\" : \"72\" ,\n",
        "        \"favourite_color\" : \"red\" ,\n",
        "        \"favourite_author\" : \"none\" ,\n",
        "    }\n",
        "print(me)"
      ],
      "execution_count": null,
      "outputs": [
        {
          "output_type": "stream",
          "text": [
            "{'height': '170', 'weight': '72', 'favourite_color': 'red', 'favourite_author': 'none'}\n"
          ],
          "name": "stdout"
        }
      ]
    },
    {
      "cell_type": "code",
      "metadata": {
        "id": "5sQa-1gVUw-M",
        "colab_type": "code",
        "colab": {
          "base_uri": "https://localhost:8080/",
          "height": 34
        },
        "outputId": "3b1cf946-4b63-4a0d-f2fb-5b0c5fdc4967"
      },
      "source": [
        "my_list = []\n",
        "delhi = (28.7041, 77.1025)\n",
        "bangalore = (12.9716, 77.5946)\n",
        "my_list.append(delhi)\n",
        "my_list.append(bangalore)\n",
        "print(my_list)"
      ],
      "execution_count": null,
      "outputs": [
        {
          "output_type": "stream",
          "text": [
            "[(28.7041, 77.1025), (12.9716, 77.5946)]\n"
          ],
          "name": "stdout"
        }
      ]
    },
    {
      "cell_type": "markdown",
      "metadata": {
        "id": "Pd8z7CnWVQo2",
        "colab_type": "text"
      },
      "source": [
        "# Strings"
      ]
    },
    {
      "cell_type": "code",
      "metadata": {
        "id": "dWuqL5ITWOuL",
        "colab_type": "code",
        "colab": {
          "base_uri": "https://localhost:8080/",
          "height": 134
        },
        "outputId": "f1290921-8af4-4bc8-e52f-9b398611b03f"
      },
      "source": [
        "#string multiplication\n",
        "name=\"deepank\"\n",
        "lastname=\"kartikey\"\n",
        "print(name * 3)\n",
        "#string upper/lower case\n",
        "print(name.upper())\n",
        "print(name.lower())\n",
        "#string capitalize\n",
        "print(name.capitalize())\n",
        "# FORMAT METHOD\n",
        "print(\"deepank {}\".format(lastname))\n",
        "# Split string\n",
        "print(\"deep ank kart i key\".split(\" \"))\n",
        "# JOIN METHOD\n",
        "age = ['I','am','24','years','old.']\n",
        "print(\" \".join(age))"
      ],
      "execution_count": null,
      "outputs": [
        {
          "output_type": "stream",
          "text": [
            "deepankdeepankdeepank\n",
            "DEEPANK\n",
            "deepank\n",
            "Deepank\n",
            "deepank kartikey\n",
            "['deep', 'ank', 'kart', 'i', 'key']\n",
            "I am 24 years old.\n"
          ],
          "name": "stdout"
        }
      ]
    },
    {
      "cell_type": "code",
      "metadata": {
        "id": "TVQYghA_Yh5p",
        "colab_type": "code",
        "colab": {
          "base_uri": "https://localhost:8080/",
          "height": 101
        },
        "outputId": "b46abe37-272b-4f6e-82cb-8df403a40f44"
      },
      "source": [
        "word = \"Camus\"\n",
        "for i in range(len(word)):\n",
        "  print(word[i])\n"
      ],
      "execution_count": null,
      "outputs": [
        {
          "output_type": "stream",
          "text": [
            "C\n",
            "a\n",
            "m\n",
            "u\n",
            "s\n"
          ],
          "name": "stdout"
        }
      ]
    },
    {
      "cell_type": "code",
      "metadata": {
        "id": "bycjdBrQZRau",
        "colab_type": "code",
        "colab": {
          "base_uri": "https://localhost:8080/",
          "height": 34
        },
        "outputId": "56ef0953-7ae7-4968-abdc-2dd64d5c1eaa"
      },
      "source": [
        "string = ['aldous','was','born','in','1894.']\n",
        "new_string = \" \".join(string)\n",
        "print(new_string.capitalize())"
      ],
      "execution_count": null,
      "outputs": [
        {
          "output_type": "stream",
          "text": [
            "Aldous was born in 1894.\n"
          ],
          "name": "stdout"
        }
      ]
    },
    {
      "cell_type": "code",
      "metadata": {
        "id": "Mao7I98daMZC",
        "colab_type": "code",
        "colab": {
          "base_uri": "https://localhost:8080/",
          "height": 34
        },
        "outputId": "e6351a02-fe44-4016-94e2-41bc28f61f2b"
      },
      "source": [
        "sentence = \"Where now?Who now?When now?\"\n",
        "def getlist(sentence):\n",
        "    my_list = sentence.split(\"?\")\n",
        "    del my_list[3]\n",
        "    return my_list\n",
        "\n",
        "print(getlist(sentence))"
      ],
      "execution_count": null,
      "outputs": [
        {
          "output_type": "stream",
          "text": [
            "['Where now', 'Who now', 'When now']\n"
          ],
          "name": "stdout"
        }
      ]
    },
    {
      "cell_type": "code",
      "metadata": {
        "id": "Xh7ntGndeLld",
        "colab_type": "code",
        "colab": {
          "base_uri": "https://localhost:8080/",
          "height": 34
        },
        "outputId": "a6b2e0b1-3ca6-45e7-cee7-012bc2312802"
      },
      "source": [
        "my_list = ['The','fox','jumped','over','the','fence','.']\n",
        "print(\" \".join(my_list))"
      ],
      "execution_count": null,
      "outputs": [
        {
          "output_type": "stream",
          "text": [
            "The fox jumped over the fence .\n"
          ],
          "name": "stdout"
        }
      ]
    },
    {
      "cell_type": "code",
      "metadata": {
        "id": "7SMy_rrlGRQe",
        "colab_type": "code",
        "colab": {
          "base_uri": "https://localhost:8080/",
          "height": 34
        },
        "outputId": "c4468ce9-fe5c-4584-cb6a-2eb6cab7d012"
      },
      "source": [
        "sentence = \"It was a bright cold day in April, and the clocks were striking thirteen.\"\n",
        "print(sentence[:33])"
      ],
      "execution_count": null,
      "outputs": [
        {
          "output_type": "stream",
          "text": [
            "It was a bright cold day in April\n"
          ],
          "name": "stdout"
        }
      ]
    },
    {
      "cell_type": "code",
      "metadata": {
        "id": "hDToGzKmH9Ts",
        "colab_type": "code",
        "colab": {
          "base_uri": "https://localhost:8080/",
          "height": 50
        },
        "outputId": "3b3c19f6-5696-4147-f887-a46ae2003fdf"
      },
      "source": [
        "book = \"It is \\\"Deepank\\\"\"\n",
        "print(\"Deepank\" in book)\n",
        "print(book[6:])\n"
      ],
      "execution_count": null,
      "outputs": [
        {
          "output_type": "stream",
          "text": [
            "True\n",
            "\"Deepank\"\n"
          ],
          "name": "stdout"
        }
      ]
    },
    {
      "cell_type": "code",
      "metadata": {
        "id": "MsxJMwCUIVZs",
        "colab_type": "code",
        "colab": {
          "base_uri": "https://localhost:8080/",
          "height": 34
        },
        "outputId": "32ef13c6-1367-4519-adf9-c2ffde57cbb2"
      },
      "source": [
        "sentence = \"A screaming comes across the sky.\"\n",
        "new=sentence.replace('s','$')\n",
        "print(new)"
      ],
      "execution_count": null,
      "outputs": [
        {
          "output_type": "stream",
          "text": [
            "A $creaming come$ acro$$ the $ky.\n"
          ],
          "name": "stdout"
        }
      ]
    },
    {
      "cell_type": "code",
      "metadata": {
        "id": "-PTUw6XtIvxq",
        "colab_type": "code",
        "colab": {
          "base_uri": "https://localhost:8080/",
          "height": 34
        },
        "outputId": "cf0739f7-7632-4153-8f9a-843fbe3b00ff"
      },
      "source": [
        "word = \"Hemingway\"\n",
        "print(word.index('m'))"
      ],
      "execution_count": null,
      "outputs": [
        {
          "output_type": "stream",
          "text": [
            "2\n"
          ],
          "name": "stdout"
        }
      ]
    },
    {
      "cell_type": "markdown",
      "metadata": {
        "id": "tJjudByhI2QV",
        "colab_type": "text"
      },
      "source": [
        "# For Loop"
      ]
    },
    {
      "cell_type": "code",
      "metadata": {
        "id": "fND_-dXhI5di",
        "colab_type": "code",
        "colab": {
          "base_uri": "https://localhost:8080/",
          "height": 84
        },
        "outputId": "e5abd7bf-e48e-4ea1-c78c-2c1166654db2"
      },
      "source": [
        "series = [\"The Walking Dead\",\"Entourage\",\"The Sopranos\",\"The Vampire Diaries\"]\n",
        "i=0\n",
        "for show in series:\n",
        "    print(str(i)+\" \"+show)\n",
        "    i=i+1"
      ],
      "execution_count": null,
      "outputs": [
        {
          "output_type": "stream",
          "text": [
            "0 The Walking Dead\n",
            "1 Entourage\n",
            "2 The Sopranos\n",
            "3 The Vampire Diaries\n"
          ],
          "name": "stdout"
        }
      ]
    },
    {
      "cell_type": "code",
      "metadata": {
        "id": "KfAJCNdnLoIG",
        "colab_type": "code",
        "colab": {
          "base_uri": "https://localhost:8080/",
          "height": 202
        },
        "outputId": "b09d7e7f-9ced-4885-9031-d7a54c32275e"
      },
      "source": [
        "for i in range(20,31):\n",
        "    print(i)"
      ],
      "execution_count": null,
      "outputs": [
        {
          "output_type": "stream",
          "text": [
            "20\n",
            "21\n",
            "22\n",
            "23\n",
            "24\n",
            "25\n",
            "26\n",
            "27\n",
            "28\n",
            "29\n",
            "30\n"
          ],
          "name": "stdout"
        }
      ]
    },
    {
      "cell_type": "markdown",
      "metadata": {
        "id": "-OXB6Ki6MWHm",
        "colab_type": "text"
      },
      "source": [
        "# While Loops"
      ]
    },
    {
      "cell_type": "code",
      "metadata": {
        "id": "2FMdGhhDQM1L",
        "colab_type": "code",
        "colab": {
          "base_uri": "https://localhost:8080/",
          "height": 34
        },
        "outputId": "e3f41477-b926-4739-ca80-9fcafcd61a0a"
      },
      "source": [
        "first = [8,19,4]\n",
        "second = [9,1,33]\n",
        "third = []\n",
        "for item1 in first:\n",
        "    for item2 in second:\n",
        "        third.append(item1*item2)\n",
        "print(third)"
      ],
      "execution_count": null,
      "outputs": [
        {
          "output_type": "stream",
          "text": [
            "[72, 8, 264, 171, 19, 627, 36, 4, 132]\n"
          ],
          "name": "stdout"
        }
      ]
    },
    {
      "cell_type": "markdown",
      "metadata": {
        "id": "pKDYG1WvOAeO",
        "colab_type": "text"
      },
      "source": [
        "# Assignment 2"
      ]
    },
    {
      "cell_type": "markdown",
      "metadata": {
        "id": "vtJgs4zZOEQ9",
        "colab_type": "text"
      },
      "source": [
        "Write a program with an infinite loop and a list of numbers. Each time through the loop the program should ask the user to guess a number (or type q to quit). If they type q, the program should end. Otherwise, it should tell them whether or not they successfully guessed a number in the list or not."
      ]
    },
    {
      "cell_type": "code",
      "metadata": {
        "id": "SjLQv1mUOGvx",
        "colab_type": "code",
        "colab": {
          "base_uri": "https://localhost:8080/",
          "height": 101
        },
        "outputId": "0f8d801b-9e94-419e-f27b-292577038be4"
      },
      "source": [
        "while True:\n",
        "  user = input('guess a number or type q to quit:')\n",
        "  numbers = [1,2,3,4,5,6,7,8,9,10]\n",
        "  if user == 'q':\n",
        "    break;\n",
        "  if int(user) in numbers:\n",
        "    print(\"Correct\")\n",
        "  else:\n",
        "    print(\"Incorrect\")\n",
        "  \n",
        "  "
      ],
      "execution_count": null,
      "outputs": [
        {
          "output_type": "stream",
          "text": [
            "guess a number or type q to quit:3\n",
            "Correct\n",
            "guess a number or type q to quit:34\n",
            "Incorrect\n",
            "guess a number or type q to quit:q\n"
          ],
          "name": "stdout"
        }
      ]
    },
    {
      "cell_type": "markdown",
      "metadata": {
        "id": "_v4ZhsPvZz37",
        "colab_type": "text"
      },
      "source": [
        "# Modules"
      ]
    },
    {
      "cell_type": "markdown",
      "metadata": {
        "id": "8nU5L7fnZ15j",
        "colab_type": "text"
      },
      "source": [
        "import [module_name]\n"
      ]
    },
    {
      "cell_type": "markdown",
      "metadata": {
        "id": "742f33mdZ6zk",
        "colab_type": "text"
      },
      "source": [
        "\n",
        "\n",
        "1.   Math: pow()\n",
        "2.   Random: randint()\n",
        "3.   Statistics: mean(), median(), mode()\n",
        "\n"
      ]
    },
    {
      "cell_type": "code",
      "metadata": {
        "id": "jF3l-paNa7We",
        "colab_type": "code",
        "colab": {
          "base_uri": "https://localhost:8080/",
          "height": 34
        },
        "outputId": "72afa0a9-9cad-4746-98be-12574fa43736"
      },
      "source": [
        "import statistics;\n",
        "num = [1,2,2,3]\n",
        "print(statistics.mean(num))"
      ],
      "execution_count": null,
      "outputs": [
        {
          "output_type": "stream",
          "text": [
            "2\n"
          ],
          "name": "stdout"
        }
      ]
    },
    {
      "cell_type": "markdown",
      "metadata": {
        "id": "LMy4e2UjcB1a",
        "colab_type": "text"
      },
      "source": [
        "## Files"
      ]
    },
    {
      "cell_type": "markdown",
      "metadata": {
        "id": "52co_0dBcwmq",
        "colab_type": "text"
      },
      "source": [
        "# **Open File**\n",
        ">Open file Modes\n",
        "* r - reading\n",
        "* w - writing\n",
        "* \n",
        "w+ - read and write\n",
        "\n",
        "> open([file_path],[mode])\n",
        " \n",
        "\n"
      ]
    },
    {
      "cell_type": "markdown",
      "metadata": {
        "id": "2vvZEsFAd76J",
        "colab_type": "text"
      },
      "source": [
        "# **With statement** - closes file automatically \n",
        "with open('st.txt','w') as f:\n",
        "    f.write('hi from here')\n"
      ]
    },
    {
      "cell_type": "code",
      "metadata": {
        "id": "9T2dq7hIchpj",
        "colab_type": "code",
        "colab": {
          "base_uri": "https://localhost:8080/",
          "height": 34
        },
        "outputId": "185137a2-9e7d-429b-b9a5-547822954cb3"
      },
      "source": [
        "## Creating file path\n",
        "import os;\n",
        "os.path.join('Users','kartikeyd','log.txt')\n",
        "\n"
      ],
      "execution_count": null,
      "outputs": [
        {
          "output_type": "execute_result",
          "data": {
            "text/plain": [
              "'Users/kartikeyd/log.txt'"
            ]
          },
          "metadata": {
            "tags": []
          },
          "execution_count": 26
        }
      ]
    },
    {
      "cell_type": "markdown",
      "metadata": {
        "id": "uvIrpVLzgaw3",
        "colab_type": "text"
      },
      "source": [
        "# Work with CSV"
      ]
    },
    {
      "cell_type": "markdown",
      "metadata": {
        "id": "IR63XyxqfBIf",
        "colab_type": "text"
      },
      "source": [
        "```\n",
        "# WRITE CSV\n",
        "import csv\n",
        "with open('C:\\\\Users\\\\kartikd\\\\st.csv','w') as f:\n",
        "          write=csv.writer(f,delimiter=',')\n",
        "          write.writerow([\"one\",\"two\",\"three\"])\n",
        "          write.writerow([\"four\",\"five\",\"six\"])\n",
        "```\n",
        "\n"
      ]
    },
    {
      "cell_type": "markdown",
      "metadata": {
        "id": "rMBlVSZPgo7_",
        "colab_type": "text"
      },
      "source": [
        "```\n",
        "# READ CSV\n",
        "import csv\n",
        "with open(C:\\\\Users\\\\kartikd\\\\st.csv','r') as f:\n",
        "          r=csv.reader(f,delimiter=',')\n",
        "          for row in r:\n",
        "            print(\",\".join(row))\n",
        "```\n",
        "\n"
      ]
    },
    {
      "cell_type": "markdown",
      "metadata": {
        "id": "l1s5A3wjhiuT",
        "colab_type": "text"
      },
      "source": [
        "# Assignment 4"
      ]
    },
    {
      "cell_type": "markdown",
      "metadata": {
        "id": "TfERsMM-hm4G",
        "colab_type": "text"
      },
      "source": [
        "Take the items in this list of lists: [[\"Top Gun\", \"Risky Business\", \"Minority Report\"], [\"Titanic\", \"The Revenant\", \"Inception\"], [\"Training Day\", \"Man on Fire\", \"Flight\"]] and write them to a CSV file. The data from each list should be a row in the file, with each item in the list separated by a"
      ]
    },
    {
      "cell_type": "code",
      "metadata": {
        "id": "zHciJFMbmeE0",
        "colab_type": "code",
        "colab": {
          "base_uri": "https://localhost:8080/",
          "height": 67
        },
        "outputId": "0a814b29-fbb3-499f-bb86-8a2baf83ccae"
      },
      "source": [
        "import csv;\n",
        "lol = [[\"Top Gun\", \"Risky Business\", \"Minority Report\"], [\"Titanic\", \"The Revenant\", \"Inception\"], [\"Training Day\", \"Man on Fire\", \"Flight\"]]\n",
        "with open('st.csv','w') as f:\n",
        "          write=csv.writer(f,delimiter=',')\n",
        "          for i in lol:\n",
        "            write.writerow(i)\n"
      ],
      "execution_count": null,
      "outputs": [
        {
          "output_type": "stream",
          "text": [
            "['Top Gun', 'Risky Business', 'Minority Report']\n",
            "['Titanic', 'The Revenant', 'Inception']\n",
            "['Training Day', 'Man on Fire', 'Flight']\n"
          ],
          "name": "stdout"
        }
      ]
    },
    {
      "cell_type": "markdown",
      "metadata": {
        "id": "bg_K872goORZ",
        "colab_type": "text"
      },
      "source": [
        "# Hangman"
      ]
    },
    {
      "cell_type": "markdown",
      "metadata": {
        "id": "nZKb2tac2n4v",
        "colab_type": "text"
      },
      "source": [
        "Steps to create\n",
        "* Create method hangman(word)\n",
        "* Variables\n",
        "> 1. wrong - to keep wrong answers count\n",
        "> 2. stages - stages of generating hangman- list of elements\n",
        "> 3. remaining_letters - list of word\n",
        "> 4. board - to represent blanks\n",
        "> 5. win - to define a win or loss\n",
        "* Loop to keep game going\n",
        "> * wrong tries < len(stages)-1\n",
        "> * guess a letter - save in char\n",
        "> * > * check if guess was correct, by seeing list of remaining_letters\n",
        "> * > * update board[], if guess was correct\n",
        "> * > * replace guessed letter by $ in remaining_letters list\n",
        "> * if guess was incorrect\n",
        "> * > * increment wrong\n",
        "> * > * display board[] with a \" \" for next guess\n",
        "> * > * display hangman based count of wrong using stages[]\n",
        "> * > * e=wrong+1  \"\\n\".join(stages[0:e])\n",
        "> * if no \"_\" left in board:\n",
        "> * > * user won  win=True\n",
        "> * > * print board[]\n",
        "> * > * break\n",
        "> * if NOT win:\n",
        "> * > * print complete hangman stages\n",
        "> * > * print you lost\n",
        "> * > * print the correct word\n",
        "\n",
        "\n",
        "\n",
        "\n",
        "\n",
        "\n"
      ]
    },
    {
      "cell_type": "code",
      "metadata": {
        "id": "G-HkzTxB32qk",
        "colab_type": "code",
        "colab": {}
      },
      "source": [
        "def hangman(word):\n",
        "  wrong = 0;\n",
        "  stages = [\"\",\n",
        "             \"________        \",\n",
        "             \"|               \",\n",
        "             \"|        |      \",\n",
        "             \"|        0      \",\n",
        "             \"|       /|\\     \",\n",
        "             \"|       / \\     \",\n",
        "             \"|               \"\n",
        "              ]\n",
        "  remaining_letters = list(word)\n",
        "  board = [\"_\"] * len(word)\n",
        "  win = False\n",
        "  print(\"Welcome to Hangman\")\n",
        "\n",
        "while wrong < len(stages)-1:\n",
        "  print(\"\\n\")\n",
        "  msg = \"Guess a letter\"\n",
        "  char = input(msg)\n",
        "\n",
        "  if char in remaining_letters:\n",
        "    c_index = remaining_letters.index(char)\n",
        "    board[c_index] = char\n",
        "    remaining_letters[c_index] = '$'\n",
        "  else:\n",
        "    wrong += 1\n",
        "    print((\" \").join(board))\n",
        "    e = wrong + 1\n",
        "    print((\"\\n\").join(stages[0:e]))\n",
        "  if \"_\" not in board:\n",
        "    print(\"You win!\")\n",
        "    print((\" \").join(board))\n",
        "    win = True\n",
        "    break \n",
        "  if not win:\n",
        "    print((\"\\n\").join(stages[0:wrong]))\n",
        "    print(\"You Lost! It was {}.\".format(word))"
      ],
      "execution_count": null,
      "outputs": []
    },
    {
      "cell_type": "markdown",
      "metadata": {
        "id": "_Pti-B6YFJWt",
        "colab_type": "text"
      },
      "source": [
        "# Assignment 5"
      ]
    },
    {
      "cell_type": "markdown",
      "metadata": {
        "id": "caVU-Z-BFL_9",
        "colab_type": "text"
      },
      "source": [
        "Modify the game, so a word is selected randomly from a list of words."
      ]
    },
    {
      "cell_type": "code",
      "metadata": {
        "id": "IgdiS0c8FaYu",
        "colab_type": "code",
        "colab": {
          "base_uri": "https://localhost:8080/",
          "height": 823
        },
        "outputId": "3f1fbea0-7dac-425a-ba2d-72b0c2858717"
      },
      "source": [
        "import random;\n",
        "\n",
        "def hangman(word):\n",
        "  wrong = 0;\n",
        "  stages = [\"\",\n",
        "             \"________        \",\n",
        "             \"|               \",\n",
        "             \"|        |      \",\n",
        "             \"|        0      \",\n",
        "             \"|       /|\\     \",\n",
        "             \"|       / \\     \",\n",
        "             \"|               \"]\n",
        "  remaining_letters = list(word)\n",
        "  board = [\"_\"] * len(word)\n",
        "  win = False\n",
        "  print(\"Welcome to Hangman\")\n",
        "\n",
        "  while wrong < len(stages)-1:\n",
        "    print(\"\\n\")\n",
        "    #print((\" \").join(board))\n",
        "    msg = \"Guess a letter \"\n",
        "    char = input(msg)\n",
        "    #print(remaining_letters)\n",
        "    if char in remaining_letters:\n",
        "      c_index = remaining_letters.index(char)\n",
        "      board[c_index] = char\n",
        "      remaining_letters[c_index] = '$'\n",
        "    else:\n",
        "      wrong += 1\n",
        "    print((\" \").join(board))\n",
        "    e = wrong + 1\n",
        "    print((\"\\n\").join(stages[0:e]))\n",
        "    if \"_\" not in board:\n",
        "      print(\"You win!\")\n",
        "      print((\" \").join(board))\n",
        "      win = True\n",
        "      break \n",
        "  if not win:\n",
        "    print((\"\\n\").join(stages[0:wrong]))\n",
        "    print(\"You Lost! It was {}.\".format(word))\n",
        "  \n",
        "\n",
        "words = ['cat','bat','cow','dog','bird']\n",
        "random_word = words[random.randint(0,4)]\n",
        "hangman(random_word)"
      ],
      "execution_count": null,
      "outputs": [
        {
          "output_type": "stream",
          "text": [
            "Welcome to Hangman\n",
            "\n",
            "\n",
            "Guess a letter d\n",
            "_ _ _\n",
            "\n",
            "________        \n",
            "\n",
            "\n",
            "Guess a letter d\n",
            "_ _ _\n",
            "\n",
            "________        \n",
            "|               \n",
            "\n",
            "\n",
            "Guess a letter c\n",
            "_ _ _\n",
            "\n",
            "________        \n",
            "|               \n",
            "|        |      \n",
            "\n",
            "\n",
            "Guess a letter b\n",
            "b _ _\n",
            "\n",
            "________        \n",
            "|               \n",
            "|        |      \n",
            "\n",
            "\n",
            "Guess a letter a\n",
            "b a _\n",
            "\n",
            "________        \n",
            "|               \n",
            "|        |      \n",
            "\n",
            "\n",
            "Guess a letter t\n",
            "b a t\n",
            "\n",
            "________        \n",
            "|               \n",
            "|        |      \n",
            "You win!\n",
            "b a t\n"
          ],
          "name": "stdout"
        }
      ]
    },
    {
      "cell_type": "code",
      "metadata": {
        "id": "mzowYespF6OK",
        "colab_type": "code",
        "colab": {
          "base_uri": "https://localhost:8080/",
          "height": 54
        },
        "outputId": "9ef99d21-6b02-49cf-b280-99e16611907d"
      },
      "source": [
        "stages = [\"\",\n",
        "             \"________        \",\n",
        "             \"|               \",\n",
        "             \"|        |      \",\n",
        "             \"|        0      \",\n",
        "             \"|       /|\\     \",\n",
        "             \"|       / \\     \",\n",
        "             \"|               \"]\n",
        "print(stages[0:len(stages)])"
      ],
      "execution_count": null,
      "outputs": [
        {
          "output_type": "stream",
          "text": [
            "['', '________        ', '|               ', '|        |      ', '|        0      ', '|       /|\\\\     ', '|       / \\\\     ', '|               ']\n"
          ],
          "name": "stdout"
        }
      ]
    },
    {
      "cell_type": "markdown",
      "metadata": {
        "id": "TTMTEyTWuhfd",
        "colab_type": "text"
      },
      "source": [
        "# Four Pillars\n",
        "  >* Encapsulation\n",
        "  >* Abstraction\n",
        "  >* Polymorphism\n",
        "  >* Inheritance"
      ]
    },
    {
      "cell_type": "markdown",
      "metadata": {
        "id": "ZEgQNsOxulD1",
        "colab_type": "text"
      },
      "source": [
        "Problem-1"
      ]
    },
    {
      "cell_type": "code",
      "metadata": {
        "id": "rfJn8ipXunVV",
        "colab_type": "code",
        "colab": {
          "base_uri": "https://localhost:8080/",
          "height": 50
        },
        "outputId": "ade22722-5b43-4f87-aac7-d06572d292a1"
      },
      "source": [
        "class Rectangle:\n",
        "    def __init__(self,w,l):\n",
        "        self.width = w\n",
        "        self.length = l\n",
        "    \n",
        "    def calculate_perimeter(self):\n",
        "        return 2*(self.width+self.length)\n",
        "\n",
        "class Square:\n",
        "    def __init__(self,l):\n",
        "        self.l = l\n",
        "        \n",
        "    def calculate_perimeter(self):\n",
        "        return 4*self.l\n",
        "        \n",
        "r1 = Rectangle(2,4)\n",
        "s1 = Square(4)\n",
        "print(r1.calculate_perimeter())\n",
        "print(s1.calculate_perimeter())"
      ],
      "execution_count": null,
      "outputs": [
        {
          "output_type": "stream",
          "text": [
            "12\n",
            "16\n"
          ],
          "name": "stdout"
        }
      ]
    },
    {
      "cell_type": "markdown",
      "metadata": {
        "id": "8PcGFl55w9T4",
        "colab_type": "text"
      },
      "source": [
        "Problem 2"
      ]
    },
    {
      "cell_type": "code",
      "metadata": {
        "id": "ey3m-qylw_cN",
        "colab_type": "code",
        "colab": {
          "base_uri": "https://localhost:8080/",
          "height": 50
        },
        "outputId": "96d088ac-e636-47c3-b6ff-3bbd19cdacaf"
      },
      "source": [
        "class Square:\n",
        "    def __init__(self, l):\n",
        "        self.s1 = l\n",
        "        \n",
        "    def change_size(self,n):\n",
        "        return self.s1 + n\n",
        "        \n",
        "sq = Square(40)\n",
        "print(sq.change_size(20))\n",
        "print(sq.change_size(-20))"
      ],
      "execution_count": null,
      "outputs": [
        {
          "output_type": "stream",
          "text": [
            "60\n",
            "20\n"
          ],
          "name": "stdout"
        }
      ]
    },
    {
      "cell_type": "markdown",
      "metadata": {
        "id": "YzAcetumzKNk",
        "colab_type": "text"
      },
      "source": [
        "# Assignment 6 - Try Inheritance"
      ]
    },
    {
      "cell_type": "markdown",
      "metadata": {
        "id": "bOCsuJ2zzZ2-",
        "colab_type": "text"
      },
      "source": [
        "Create a class called Shape. Define a method in it called what_am_i that prints \"I am a shape\" when called. Change your Square and Rectangle classes from the previous challenges to inherit from Shape, create Square and Rectangle objects, and call the new method on both of them."
      ]
    },
    {
      "cell_type": "code",
      "metadata": {
        "id": "wYYhmlYCzTx9",
        "colab_type": "code",
        "colab": {
          "base_uri": "https://localhost:8080/",
          "height": 50
        },
        "outputId": "aa9e7a98-15e5-48c5-ab33-7028595ee201"
      },
      "source": [
        "class Shape:\n",
        "  def what_am_i(self):\n",
        "    print(\"I am a shape\")\n",
        "\n",
        "class Rectangle(Shape):\n",
        "  pass\n",
        "\n",
        "class Square(Shape):\n",
        "  pass\n",
        "\n",
        "r1 = Rectangle()\n",
        "s1 = Square()\n",
        "\n",
        "r1.what_am_i()\n",
        "s1.what_am_i()"
      ],
      "execution_count": null,
      "outputs": [
        {
          "output_type": "stream",
          "text": [
            "I am a shape\n",
            "I am a shape\n"
          ],
          "name": "stdout"
        }
      ]
    },
    {
      "cell_type": "markdown",
      "metadata": {
        "id": "_3Cm-MyHai2N",
        "colab_type": "text"
      },
      "source": [
        "# Problems"
      ]
    },
    {
      "cell_type": "markdown",
      "metadata": {
        "id": "nWVhAllKanXV",
        "colab_type": "text"
      },
      "source": [
        "**Class Variable**"
      ]
    },
    {
      "cell_type": "code",
      "metadata": {
        "id": "aoly7ceRc5YQ",
        "colab_type": "code",
        "colab": {
          "base_uri": "https://localhost:8080/",
          "height": 34
        },
        "outputId": "00298cb5-1d89-44a6-805c-13f4fdd76166"
      },
      "source": [
        "class Square():\n",
        "    square_list = []\n",
        "    def __init__(self,s):\n",
        "      self.side = s\n",
        "      self.square_list.append(self.side)\n",
        "        \n",
        "sq1 = Square(4)\n",
        "print(Square.square_list)"
      ],
      "execution_count": null,
      "outputs": [
        {
          "output_type": "stream",
          "text": [
            "[4]\n"
          ],
          "name": "stdout"
        }
      ]
    },
    {
      "cell_type": "markdown",
      "metadata": {
        "id": "EUhxgoW4j4u7",
        "colab_type": "text"
      },
      "source": [
        "**repr method - Object class**"
      ]
    },
    {
      "cell_type": "code",
      "metadata": {
        "id": "wB8P6aPTdwZ-",
        "colab_type": "code",
        "colab": {
          "base_uri": "https://localhost:8080/",
          "height": 34
        },
        "outputId": "ec79971e-76ef-4af5-b9be-004d497483e1"
      },
      "source": [
        "class Square():\n",
        "    \n",
        "    def __init__(self,s):\n",
        "      self.side = s\n",
        "    def __repr__(self):\n",
        "      return (str(self.side)+\" by \")*3+str(self.side)\n",
        "        \n",
        "sq1 = Square(4)\n",
        "print(sq1)"
      ],
      "execution_count": null,
      "outputs": [
        {
          "output_type": "stream",
          "text": [
            "4 by 4 by 4 by 4\n"
          ],
          "name": "stdout"
        }
      ]
    },
    {
      "cell_type": "markdown",
      "metadata": {
        "id": "MpSutMofkDf8",
        "colab_type": "text"
      },
      "source": [
        "**\"is\" keyword**"
      ]
    },
    {
      "cell_type": "code",
      "metadata": {
        "id": "gz14LAA6kcVw",
        "colab_type": "code",
        "colab": {
          "base_uri": "https://localhost:8080/",
          "height": 34
        },
        "outputId": "0fa03ab3-3630-4f8f-851f-9c1f782c7f74"
      },
      "source": [
        "class Name:\n",
        "  def __init__(self,st):\n",
        "    self.name = st\n",
        "  def compare(o1,o2):\n",
        "    if o1 is o2:\n",
        "      return True\n",
        "    else:\n",
        "      return False\n",
        "\n",
        "obj1 = Name(\"Deep\")\n",
        "obj2 = obj1\n",
        "print(Name.compare(obj1,obj2))"
      ],
      "execution_count": null,
      "outputs": [
        {
          "output_type": "stream",
          "text": [
            "True\n"
          ],
          "name": "stdout"
        }
      ]
    },
    {
      "cell_type": "markdown",
      "metadata": {
        "id": "Ds-92kk_CLPo",
        "colab_type": "text"
      },
      "source": [
        "# Spotify\n",
        "\n",
        "Daniel Ek + Martin Lorentzon -2006\n",
        "\n",
        "Launch -2008"
      ]
    },
    {
      "cell_type": "markdown",
      "metadata": {
        "id": "VmiGa4RmEBPo",
        "colab_type": "text"
      },
      "source": [
        "# Bash"
      ]
    },
    {
      "cell_type": "markdown",
      "metadata": {
        "id": "Sqqd_2aiECus",
        "colab_type": "text"
      },
      "source": [
        "**Commands**\n",
        "> echo Hello\n",
        "\n",
        "> history : list of recent typed commands\n",
        "\n",
        "> pwd : print working directory\n",
        "\n",
        "> cd path : to go specific path/directory\n",
        "\n",
        "> ls : prints list of directories in current working directory\n",
        "> * ls -author\n",
        "> * ls -a : to view hidden files\n",
        "> ~ : shortcut for home directory\n",
        "\n",
        "> mkdir / rmdir : create/remove directory\n",
        "\n",
        "> | (pipe) : used to pass output of 1 command to other command as input\n",
        "> * ls -a | less\n",
        "\n",
        "> export X=100  : Create environment variable in bash\n",
        "\n",
        "> Permissions\n",
        "> *  \n",
        "\n",
        "> whoami : current user\n",
        "\n",
        "> sudo: superuserdo\n",
        "\n"
      ]
    },
    {
      "cell_type": "markdown",
      "metadata": {
        "id": "Snf8ytudL-xx",
        "colab_type": "text"
      },
      "source": [
        "# Vim"
      ]
    },
    {
      "cell_type": "markdown",
      "metadata": {
        "id": "V8rJtwHLMBOP",
        "colab_type": "text"
      },
      "source": [
        "> text editor, which can be used from command-line"
      ]
    },
    {
      "cell_type": "markdown",
      "metadata": {
        "id": "0j9VJ4CaMHhY",
        "colab_type": "text"
      },
      "source": [
        "> **Modes**\n",
        "> * Command Mode\n",
        "> * Insert mode\n",
        "> * Last line mode\n",
        "\n",
        "vim data.txt : opens in *command* mode\n",
        "\n",
        "press 'i' to go in *insert* mode\n",
        "\n",
        "press ':' to go in *last-line* mode\n",
        "\n",
        "vimtutor : in-built vim tutorial"
      ]
    },
    {
      "cell_type": "markdown",
      "metadata": {
        "id": "Hr5b60f_OXbm",
        "colab_type": "text"
      },
      "source": [
        "# Regular Expressions"
      ]
    },
    {
      "cell_type": "markdown",
      "metadata": {
        "id": "jBkARFEtOl8V",
        "colab_type": "text"
      },
      "source": [
        "to define search pattern using sequence of characters\n"
      ]
    },
    {
      "cell_type": "markdown",
      "metadata": {
        "id": "mitp1EyfQfUp",
        "colab_type": "text"
      },
      "source": [
        "**grep command** : search a file using regex and print line where regex found\n",
        "> case-sensitive\n",
        "\n",
        "> **-i** : to make case insensitive\n",
        "\n",
        "> **-o** : to display only word matched"
      ]
    },
    {
      "cell_type": "code",
      "metadata": {
        "id": "Xxu0a_8hRY4b",
        "colab_type": "code",
        "colab": {
          "base_uri": "https://localhost:8080/",
          "height": 50
        },
        "outputId": "31860ebf-4873-4494-be67-f6af392989b0"
      },
      "source": [
        "# in python\n",
        "\n",
        "import re\n",
        "text = \" Let's make world a better place to live in.\"\n",
        "word = \" Two too\"\n",
        "matches1 =re.findall('t[wo]o',word,re.IGNORECASE)\n",
        "matches2 = re.findall('l',text, re.IGNORECASE)\n",
        "print(matches1)\n",
        "print(matches2)"
      ],
      "execution_count": null,
      "outputs": [
        {
          "output_type": "stream",
          "text": [
            "['Two', 'too']\n",
            "['L', 'l', 'l', 'l']\n"
          ],
          "name": "stdout"
        }
      ]
    },
    {
      "cell_type": "markdown",
      "metadata": {
        "id": "vyBIm43GSUbz",
        "colab_type": "text"
      },
      "source": [
        "**Regex special characters**\n",
        "\n",
        "^ : starts with\n",
        "\n",
        "$ : ends with\n",
        "\n",
        "\\d : match digits in a string\n",
        "\n"
      ]
    },
    {
      "cell_type": "code",
      "metadata": {
        "id": "qoFnYSLhmpF6",
        "colab_type": "code",
        "colab": {
          "base_uri": "https://localhost:8080/",
          "height": 50
        },
        "outputId": "3b8294e7-4403-463f-bb49-225498f55530"
      },
      "source": [
        "import re\n",
        "t = \"_one_ _two_ _three_\"\n",
        "result1 = re.findall('_.*_',t) # greedy matching\n",
        "result2 = re.findall('_.*?_',t) # non greedy matching\n",
        "print(result1)\n",
        "print(result2)"
      ],
      "execution_count": null,
      "outputs": [
        {
          "output_type": "stream",
          "text": [
            "['_one_ _two_ _three_']\n",
            "['_one_', '_two_', '_three_']\n"
          ],
          "name": "stdout"
        }
      ]
    },
    {
      "cell_type": "code",
      "metadata": {
        "id": "anfPsj6iyhdF",
        "colab_type": "code",
        "colab": {
          "base_uri": "https://localhost:8080/",
          "height": 34
        },
        "outputId": "041c8dec-63b7-49d5-8156-44e33698eb91"
      },
      "source": [
        "import re\n",
        "text = \"The ghosts that says boo haunts the loo.\"\n",
        "results = re.findall(\"[a-z]oo\",text)\n",
        "print(results)"
      ],
      "execution_count": null,
      "outputs": [
        {
          "output_type": "stream",
          "text": [
            "['boo', 'loo']\n"
          ],
          "name": "stdout"
        }
      ]
    },
    {
      "cell_type": "markdown",
      "metadata": {
        "id": "P5_SkmTG3pIN",
        "colab_type": "text"
      },
      "source": [
        "# Package Manager\n",
        "\n"
      ]
    },
    {
      "cell_type": "markdown",
      "metadata": {
        "id": "PdAm_VV032yb",
        "colab_type": "text"
      },
      "source": [
        "pip3 [option] [package==version]\n",
        ">pip3 install Flask==0.12.2\n",
        "\n",
        ">pip3 uninstall Flask\n",
        "\n",
        ">pip3 freeze : to see installed packages"
      ]
    },
    {
      "cell_type": "markdown",
      "metadata": {
        "id": "_NjJyeZK6LwY",
        "colab_type": "text"
      },
      "source": [
        "# Version Control"
      ]
    },
    {
      "cell_type": "markdown",
      "metadata": {
        "id": "kzT9IlBb6PF2",
        "colab_type": "text"
      },
      "source": [
        "**git remote -v** : prints url of central repository\n",
        "\n",
        "**git reset filepath** : unstage a file\n",
        "\n",
        "**git push origin master** : push changes to central repository\n",
        "\n",
        "**git log** : to print commit history\n",
        "\n",
        "**git checkout commit_id** : go to a specific commit"
      ]
    },
    {
      "cell_type": "markdown",
      "metadata": {
        "id": "v2Huylls6081",
        "colab_type": "text"
      },
      "source": [
        "# Web Scraper\n",
        "\n",
        "> A program that extracts data from a website\n",
        "\n"
      ]
    },
    {
      "cell_type": "markdown",
      "metadata": {
        "id": "gqzGboB17DJm",
        "colab_type": "text"
      },
      "source": [
        "\n",
        "1. Extract HTML from Google News\n",
        "2. Use module called **BeautifulSoup** to parse HTML \n",
        "3. Save all links in it\n",
        "\n"
      ]
    },
    {
      "cell_type": "markdown",
      "metadata": {
        "id": "fb775PZ0C-un",
        "colab_type": "text"
      },
      "source": [
        "# Algorithms"
      ]
    },
    {
      "cell_type": "markdown",
      "metadata": {
        "id": "AgFFlQ97DChG",
        "colab_type": "text"
      },
      "source": [
        "Series of steps to be followed to solve a problem.\n",
        "\n"
      ]
    },
    {
      "cell_type": "markdown",
      "metadata": {
        "id": "qBBJZ-rhuuh9",
        "colab_type": "text"
      },
      "source": [
        "**Combining two lists**"
      ]
    },
    {
      "cell_type": "code",
      "metadata": {
        "id": "SOeNVrnHux4M",
        "colab_type": "code",
        "colab": {
          "base_uri": "https://localhost:8080/",
          "height": 34
        },
        "outputId": "01567c8a-acab-4144-9e62-447d5567baab"
      },
      "source": [
        "movies = ['Inception','Interstellar','Godfather','Insidious']\n",
        "rating = [5,4.5,5]\n",
        "list = []\n",
        "for tree in zip(movies, rating):\n",
        "  list.append(tree)\n",
        "print(list)"
      ],
      "execution_count": null,
      "outputs": [
        {
          "output_type": "stream",
          "text": [
            "[('Inception', 5), ('Interstellar', 4.5), ('Godfather', 5)]\n"
          ],
          "name": "stdout"
        }
      ]
    },
    {
      "cell_type": "markdown",
      "metadata": {
        "id": "ehrmGFRh-EPv",
        "colab_type": "text"
      },
      "source": [
        "# Recursion"
      ]
    },
    {
      "cell_type": "code",
      "metadata": {
        "id": "gnFFwi0H-H1r",
        "colab_type": "code",
        "colab": {
          "base_uri": "https://localhost:8080/",
          "height": 118
        },
        "outputId": "ae45a2e9-86d2-4b7d-f6db-8f694780d6f5"
      },
      "source": [
        "def print_to_zero(n):\n",
        "  if n < 0:\n",
        "    return;\n",
        "  print(n)\n",
        "  print_to_zero(n-1)\n",
        "\n",
        "print_to_zero(5)\n",
        "\n"
      ],
      "execution_count": 2,
      "outputs": [
        {
          "output_type": "stream",
          "text": [
            "5\n",
            "4\n",
            "3\n",
            "2\n",
            "1\n",
            "0\n"
          ],
          "name": "stdout"
        }
      ]
    },
    {
      "cell_type": "markdown",
      "metadata": {
        "id": "Vt0gJ7Qzs_uq",
        "colab_type": "text"
      },
      "source": [
        "# Binary Search"
      ]
    },
    {
      "cell_type": "code",
      "metadata": {
        "id": "Gd9DJ8vGtL0c",
        "colab_type": "code",
        "colab": {
          "base_uri": "https://localhost:8080/",
          "height": 50
        },
        "outputId": "fb86412a-d11e-43cf-eda8-820d9ecb8420"
      },
      "source": [
        "def binary_search(l, target):\n",
        "  first = 0\n",
        "  last = len(l)-1\n",
        "  position = -1\n",
        "\n",
        "  while (first<=last and position<0):\n",
        "    mid = (first+last)//2\n",
        "    if(l[mid]== target):\n",
        "      position = mid\n",
        "    else:\n",
        "      if(target<l[mid]):\n",
        "        last = mid-1\n",
        "      else:\n",
        "        first = mid+1\n",
        "  \n",
        "  return position\n",
        "\n",
        "the_list = [12,56,21,45,34,21,78,65,90]\n",
        "the_list.sort()\n",
        "target =78\n",
        "position = binary_search(the_list,target)\n",
        "print(\"Sorted List: {}\".format(the_list))\n",
        "if position >=0:\n",
        "  print(\"{} found in list at index {}\".format(target,position))\n",
        "else:\n",
        "  print(\"Element not found in list\")"
      ],
      "execution_count": 10,
      "outputs": [
        {
          "output_type": "stream",
          "text": [
            "Sorted List: [12, 21, 21, 34, 45, 56, 65, 78, 90]\n",
            "78 found in list at index 7\n"
          ],
          "name": "stdout"
        }
      ]
    },
    {
      "cell_type": "markdown",
      "metadata": {
        "id": "wEnxLSc2ySc3",
        "colab_type": "text"
      },
      "source": [
        "# Finding Duplicates"
      ]
    },
    {
      "cell_type": "code",
      "metadata": {
        "id": "xUJqkiq2ykvL",
        "colab_type": "code",
        "colab": {
          "base_uri": "https://localhost:8080/",
          "height": 50
        },
        "outputId": "1d8bf9bc-cc45-483f-be97-e22ea5ac08de"
      },
      "source": [
        "def find_duplicates(the_list):\n",
        "  a_set = set();\n",
        "  dups=[]\n",
        "\n",
        "  for item in the_list:\n",
        "    length_1=len(a_set)\n",
        "    a_set.add(item)\n",
        "    length_2=len(a_set)\n",
        "    if length_1==length_2:\n",
        "      dups.append(item)\n",
        "  return dups\n",
        "\n",
        "the_list = ['Deepank','Susan','Daphne','Deepank','Susan','Lopez']\n",
        "dups = find_duplicates(the_list)\n",
        "print(\"List{}\".format(the_list))\n",
        "print(\"Duplicates in list: {}\".format(dups))"
      ],
      "execution_count": 11,
      "outputs": [
        {
          "output_type": "stream",
          "text": [
            "List['Deepank', 'Susan', 'Daphne', 'Deepank', 'Susan', 'Lopez']\n",
            "Duplicates in list: ['Deepank', 'Susan']\n"
          ],
          "name": "stdout"
        }
      ]
    },
    {
      "cell_type": "markdown",
      "metadata": {
        "id": "T5-HjLCN2kb_",
        "colab_type": "text"
      },
      "source": [
        "# Last digit in string"
      ]
    },
    {
      "cell_type": "code",
      "metadata": {
        "id": "uOzATBaQ28h_",
        "colab_type": "code",
        "colab": {
          "base_uri": "https://localhost:8080/",
          "height": 34
        },
        "outputId": "eaa78076-dfa5-457b-eb13-fe9cc335f60e"
      },
      "source": [
        "input_string = 'Buy 2 get 1 free'\n",
        "the_list = [c for c in input_string if c.isdigit()][-1]\n",
        "print(\"Last digit in String: {} is {}\".format(input_string,the_list))"
      ],
      "execution_count": 15,
      "outputs": [
        {
          "output_type": "stream",
          "text": [
            "Last digit in String: Buy 2 get 1 free is 1\n"
          ],
          "name": "stdout"
        }
      ]
    },
    {
      "cell_type": "markdown",
      "metadata": {
        "id": "BDzDnVqb5Cy2",
        "colab_type": "text"
      },
      "source": [
        "# Intersection of lists"
      ]
    },
    {
      "cell_type": "code",
      "metadata": {
        "id": "QO1hLs7O5Got",
        "colab_type": "code",
        "colab": {
          "base_uri": "https://localhost:8080/",
          "height": 67
        },
        "outputId": "4023fb2b-15ac-4098-bf16-d2d78447733b"
      },
      "source": [
        "list_1 = [2, 43, 48, 62, 64, 28, 3]\n",
        "list_2 = [1, 28 ,42, 70, 2, 10, 62, 31, 4, 14]\n",
        "list_3 = [value for value in list_1 if value in list_2]\n",
        "print(list_1)\n",
        "print(list_2)\n",
        "print(\"Intersection: {}\".format(list_3))\n"
      ],
      "execution_count": 18,
      "outputs": [
        {
          "output_type": "stream",
          "text": [
            "[2, 43, 48, 62, 64, 28, 3]\n",
            "[1, 28, 42, 70, 2, 10, 62, 31, 4, 14]\n",
            "Intersection: [2, 62, 28]\n"
          ],
          "name": "stdout"
        }
      ]
    },
    {
      "cell_type": "code",
      "metadata": {
        "id": "0Ig2gqFx58TM",
        "colab_type": "code",
        "colab": {
          "base_uri": "https://localhost:8080/",
          "height": 67
        },
        "outputId": "555a571a-0f96-499d-b138-2d404f787c5a"
      },
      "source": [
        "# using sets intersection\n",
        "list_1 = [2, 43, 48, 62, 64, 28, 3]\n",
        "list_2 = [1, 28 ,42, 70, 2, 10, 62, 31, 4, 14]\n",
        "set_1 = set(list_1)\n",
        "set_2 = set(list_2)\n",
        "print(set_1)\n",
        "print(set_2)\n",
        "print(\"Intersection: {}\".format(set_1.intersection(set_2)))"
      ],
      "execution_count": 19,
      "outputs": [
        {
          "output_type": "stream",
          "text": [
            "{64, 2, 3, 43, 48, 28, 62}\n",
            "{1, 2, 4, 70, 42, 10, 14, 28, 62, 31}\n",
            "Intersection: {2, 28, 62}\n"
          ],
          "name": "stdout"
        }
      ]
    },
    {
      "cell_type": "markdown",
      "metadata": {
        "id": "9zRNWYQ66dbM",
        "colab_type": "text"
      },
      "source": [
        "# Assignment 11"
      ]
    },
    {
      "cell_type": "code",
      "metadata": {
        "id": "UhmXpBkl80dK",
        "colab_type": "code",
        "colab": {
          "base_uri": "https://localhost:8080/",
          "height": 34
        },
        "outputId": "1293856f-1cd9-44bd-a91f-7aa7285ed680"
      },
      "source": [
        "# Given a non-empty list of integers, every element appears twice except for one. Find that single one.\n",
        "the_list = [2,3,4,5,6,7,6,5,4,3,2,7,8]\n",
        "xor = 0\n",
        "for item in the_list:\n",
        "  xor = xor ^ item\n",
        "print(\"Number which occurs only once in {} is {}\".format(the_list,xor))\n"
      ],
      "execution_count": 27,
      "outputs": [
        {
          "output_type": "stream",
          "text": [
            "Number which occurs only once in [2, 3, 4, 5, 6, 7, 6, 5, 4, 3, 2, 7, 8] is 8\n"
          ],
          "name": "stdout"
        }
      ]
    },
    {
      "cell_type": "markdown",
      "metadata": {
        "id": "Jg5CxX44PEe4",
        "colab_type": "text"
      },
      "source": [
        "# Data Structures"
      ]
    },
    {
      "cell_type": "markdown",
      "metadata": {
        "id": "UHI4vUzdcULp",
        "colab_type": "text"
      },
      "source": [
        "# Stacks"
      ]
    },
    {
      "cell_type": "code",
      "metadata": {
        "id": "H32cXAo1PLNC",
        "colab_type": "code",
        "colab": {
          "base_uri": "https://localhost:8080/",
          "height": 50
        },
        "outputId": "0a4a4577-5389-4e64-f378-718bce8c3edb"
      },
      "source": [
        "from collections import deque\n",
        "\n",
        "stack =deque()\n",
        "stack.append(10)\n",
        "stack.append(20)\n",
        "stack.append(30)\n",
        "stack.append(40)\n",
        "print(stack)\n",
        "stack.pop()\n",
        "print(stack)"
      ],
      "execution_count": 33,
      "outputs": [
        {
          "output_type": "stream",
          "text": [
            "deque([10, 20, 30, 40])\n",
            "deque([10, 20, 30])\n"
          ],
          "name": "stdout"
        }
      ]
    },
    {
      "cell_type": "code",
      "metadata": {
        "id": "B52DUfehY4ni",
        "colab_type": "code",
        "colab": {
          "base_uri": "https://localhost:8080/",
          "height": 34
        },
        "outputId": "16d31b7e-75df-49c5-9bc0-2cc51770780c"
      },
      "source": [
        "# reverse a word using Stack\n",
        "class Stack:\n",
        "  def __init__(self):\n",
        "    self.items = []\n",
        "  def push(self, item):\n",
        "    self.items.append(item)\n",
        "  def pop(self):\n",
        "    return self.items.pop()\n",
        "\n",
        "stack = Stack()\n",
        "word = \"yesterday\"\n",
        "reverse = \"\"\n",
        "\n",
        "for char in word:\n",
        "  stack.push(char)\n",
        "\n",
        "for i in range(len(stack.items)):\n",
        "  char = stack.pop()\n",
        "  reverse = reverse+char\n",
        "\n",
        "print(reverse)\n"
      ],
      "execution_count": 38,
      "outputs": [
        {
          "output_type": "stream",
          "text": [
            "yadretsey\n"
          ],
          "name": "stdout"
        }
      ]
    },
    {
      "cell_type": "code",
      "metadata": {
        "id": "aHgpTc7bcnki",
        "colab_type": "code",
        "colab": {
          "base_uri": "https://localhost:8080/",
          "height": 34
        },
        "outputId": "88ff62fc-5e8b-4a89-aea9-3cf3ba3283fe"
      },
      "source": [
        "# reverse a list\n",
        "class Stack:\n",
        "  def __init__(self):\n",
        "    self.items = []\n",
        "  def push(self,item):\n",
        "    self.items.append(item)\n",
        "  def pop(self):\n",
        "    return self.items.pop()\n",
        "\n",
        "stack = Stack()\n",
        "the_list = [1,2,3,4,5]\n",
        "for item in the_list:\n",
        "  stack.push(item)\n",
        "new_list = [stack.pop() for i in range(len(stack.items)) ]\n",
        "print(new_list)"
      ],
      "execution_count": 44,
      "outputs": [
        {
          "output_type": "stream",
          "text": [
            "[5, 4, 3, 2, 1]\n"
          ],
          "name": "stdout"
        }
      ]
    },
    {
      "cell_type": "markdown",
      "metadata": {
        "id": "CwGpmJCuIcCg",
        "colab_type": "text"
      },
      "source": [
        "# Linked List"
      ]
    },
    {
      "cell_type": "code",
      "metadata": {
        "id": "MtbZ2ermIebx",
        "colab_type": "code",
        "colab": {
          "base_uri": "https://localhost:8080/",
          "height": 118
        },
        "outputId": "6d9db3fe-0948-42aa-9294-02384a7f13d2"
      },
      "source": [
        "#Node class\n",
        "class Node:\n",
        "  def __init__(self, data=None, next=None):\n",
        "    self.data=data\n",
        "    self.next=next\n",
        "  #def print_node(self):\n",
        "    #print(self.data)\n",
        "\n",
        "#LinkedList Class\n",
        "class LinkedList:\n",
        "  def __init__(self):\n",
        "    self.head=None\n",
        "\n",
        "  #add node to linkedlist\n",
        "  def append_node(self,data):\n",
        "    if not self.head:\n",
        "      self.head = Node(data)\n",
        "      return\n",
        "    else:\n",
        "      current = self.head\n",
        "      while current.next:\n",
        "        current = current.next\n",
        "      current.next = Node(data)\n",
        "\n",
        "  #search data in a linkedlist\n",
        "  def search(self,target):\n",
        "    curr = self.head\n",
        "    while curr!=None:\n",
        "      if curr.data == target:\n",
        "        print(\"Found {}\".format(target))\n",
        "        return\n",
        "      else:\n",
        "        curr = curr.next\n",
        "    print(\"{} not found\".format(target))\n",
        "    return\n",
        "  \n",
        "  #print the linkedlist\n",
        "  def print_list(self):\n",
        "    node = self.head\n",
        "    while node is not None:\n",
        "      print(node.data)\n",
        "      node = node.next\n",
        "\n",
        "the_list = LinkedList()\n",
        "the_list.append_node(\"Monday\")\n",
        "the_list.append_node(\"Tuesday\")\n",
        "the_list.append_node(\"Wednesday\")\n",
        "the_list.print_list()\n",
        "print()\n",
        "the_list.search(\"Wednesday\")\n",
        "the_list.search(\"Saturday\")"
      ],
      "execution_count": 11,
      "outputs": [
        {
          "output_type": "stream",
          "text": [
            "Monday\n",
            "Tuesday\n",
            "Wednesday\n",
            "\n",
            "Found Wednesday\n",
            "Saturday not found\n"
          ],
          "name": "stdout"
        }
      ]
    }
  ]
}