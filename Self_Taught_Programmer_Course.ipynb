{
  "nbformat": 4,
  "nbformat_minor": 0,
  "metadata": {
    "colab": {
      "name": "Self-Taught Programmer Course",
      "provenance": [],
      "collapsed_sections": [
        "J6DUCHN5uCrB",
        "Sz1hpJDodObX",
        "lfLHlNPnj5oI",
        "ZlDA1X74kAFA",
        "PUe3VsOvRMIq",
        "Pd8z7CnWVQo2",
        "tJjudByhI2QV",
        "-OXB6Ki6MWHm",
        "pKDYG1WvOAeO",
        "_v4ZhsPvZz37",
        "2vvZEsFAd76J",
        "uvIrpVLzgaw3",
        "l1s5A3wjhiuT"
      ],
      "toc_visible": true,
      "authorship_tag": "ABX9TyP7hxvj7brd81+a1GUEH4D9",
      "include_colab_link": true
    },
    "kernelspec": {
      "name": "python3",
      "display_name": "Python 3"
    }
  },
  "cells": [
    {
      "cell_type": "markdown",
      "metadata": {
        "id": "view-in-github",
        "colab_type": "text"
      },
      "source": [
        "<a href=\"https://colab.research.google.com/github/deepank120896/Learn-Python/blob/master/Self_Taught_Programmer_Course.ipynb\" target=\"_parent\"><img src=\"https://colab.research.google.com/assets/colab-badge.svg\" alt=\"Open In Colab\"/></a>"
      ]
    },
    {
      "cell_type": "markdown",
      "metadata": {
        "id": "J6DUCHN5uCrB",
        "colab_type": "text"
      },
      "source": [
        "# Introduction"
      ]
    },
    {
      "cell_type": "code",
      "metadata": {
        "id": "GD1Eidq3ue27",
        "colab_type": "code",
        "outputId": "aebc672b-c753-400d-be97-995d720c8271",
        "colab": {
          "base_uri": "https://localhost:8080/",
          "height": 34
        }
      },
      "source": [
        "print(\"Hello, World!\")"
      ],
      "execution_count": 0,
      "outputs": [
        {
          "output_type": "stream",
          "text": [
            "Hello, World!\n"
          ],
          "name": "stdout"
        }
      ]
    },
    {
      "cell_type": "markdown",
      "metadata": {
        "id": "0Al9KHWhu7mV",
        "colab_type": "text"
      },
      "source": [
        ""
      ]
    },
    {
      "cell_type": "markdown",
      "metadata": {
        "id": "Sz1hpJDodObX",
        "colab_type": "text"
      },
      "source": [
        "# Assignment 1"
      ]
    },
    {
      "cell_type": "markdown",
      "metadata": {
        "id": "Jfn16jaPdROp",
        "colab_type": "text"
      },
      "source": [
        "Write a program that asks the user to type a number, convert it to an integer, and print it. If you can't convert their input to an integer, print a message that says \"Please type an integer.\""
      ]
    },
    {
      "cell_type": "code",
      "metadata": {
        "id": "nuW8_lxRdUl0",
        "colab_type": "code",
        "outputId": "1f805e30-4790-42d4-9b3d-071a43ee820b",
        "colab": {
          "base_uri": "https://localhost:8080/",
          "height": 50
        }
      },
      "source": [
        "def convert(string):\n",
        "  try:\n",
        "    return int(string)\n",
        "  except Exception:\n",
        "    print(\"Please type an integer.\")\n",
        "\n",
        "string = input(\"Enter number: \")\n",
        "convert(string)\n",
        "\n",
        "\n"
      ],
      "execution_count": 0,
      "outputs": [
        {
          "output_type": "stream",
          "text": [
            "Enter number: De\n",
            "Please type an integer.\n"
          ],
          "name": "stdout"
        }
      ]
    },
    {
      "cell_type": "markdown",
      "metadata": {
        "id": "lfLHlNPnj5oI",
        "colab_type": "text"
      },
      "source": [
        "# List [ ] -mutable"
      ]
    },
    {
      "cell_type": "code",
      "metadata": {
        "id": "RnCV6zaWitNy",
        "colab_type": "code",
        "outputId": "e30825f3-290f-4ee8-fe3a-0cd116d96ba4",
        "colab": {
          "base_uri": "https://localhost:8080/",
          "height": 67
        }
      },
      "source": [
        "artists = [\"Lata\",\"Shankar\",\"AR\",\"Shan\",\"Ehsaan\"]\n",
        "print(artists)\n",
        "artists[4] = \"John Lenon\"\n",
        "print(artists)\n",
        "artists.append(\"Dance Monkey\")\n",
        "print(artists)"
      ],
      "execution_count": 0,
      "outputs": [
        {
          "output_type": "stream",
          "text": [
            "['Lata', 'Shankar', 'AR', 'Shan', 'Ehsaan']\n",
            "['Lata', 'Shankar', 'AR', 'Shan', 'John Lenon']\n",
            "['Lata', 'Shankar', 'AR', 'Shan', 'John Lenon', 'Dance Monkey']\n"
          ],
          "name": "stdout"
        }
      ]
    },
    {
      "cell_type": "markdown",
      "metadata": {
        "id": "ZlDA1X74kAFA",
        "colab_type": "text"
      },
      "source": [
        "# Tuples ( ) -immutable"
      ]
    },
    {
      "cell_type": "code",
      "metadata": {
        "id": "2j65-dTFkMDh",
        "colab_type": "code",
        "outputId": "e90c23cb-b077-48be-b84a-e9dd14e6280c",
        "colab": {
          "base_uri": "https://localhost:8080/",
          "height": 34
        }
      },
      "source": [
        "authors = (\"Premchand\",\"Rolly\",\"Sanjay\",\"Dev\",\"Karumanchi\")\n",
        "print(authors)"
      ],
      "execution_count": 0,
      "outputs": [
        {
          "output_type": "stream",
          "text": [
            "('Premchand', 'Rolly', 'Sanjay', 'Dev', 'Karumanchi')\n"
          ],
          "name": "stdout"
        }
      ]
    },
    {
      "cell_type": "markdown",
      "metadata": {
        "id": "PUe3VsOvRMIq",
        "colab_type": "text"
      },
      "source": [
        "# Dictionary { : } - mutable"
      ]
    },
    {
      "cell_type": "code",
      "metadata": {
        "id": "ycDdaQJ4S0jx",
        "colab_type": "code",
        "colab": {
          "base_uri": "https://localhost:8080/",
          "height": 34
        },
        "outputId": "ef265579-e564-402b-bad3-d12f4a88110f"
      },
      "source": [
        "me = { \"height\" : \"170\" ,\n",
        "        \"weight\" : \"72\" ,\n",
        "        \"favourite_color\" : \"red\" ,\n",
        "        \"favourite_author\" : \"none\" ,\n",
        "    }\n",
        "print(me)"
      ],
      "execution_count": 2,
      "outputs": [
        {
          "output_type": "stream",
          "text": [
            "{'height': '170', 'weight': '72', 'favourite_color': 'red', 'favourite_author': 'none'}\n"
          ],
          "name": "stdout"
        }
      ]
    },
    {
      "cell_type": "code",
      "metadata": {
        "id": "5sQa-1gVUw-M",
        "colab_type": "code",
        "colab": {
          "base_uri": "https://localhost:8080/",
          "height": 34
        },
        "outputId": "3b1cf946-4b63-4a0d-f2fb-5b0c5fdc4967"
      },
      "source": [
        "my_list = []\n",
        "delhi = (28.7041, 77.1025)\n",
        "bangalore = (12.9716, 77.5946)\n",
        "my_list.append(delhi)\n",
        "my_list.append(bangalore)\n",
        "print(my_list)"
      ],
      "execution_count": 4,
      "outputs": [
        {
          "output_type": "stream",
          "text": [
            "[(28.7041, 77.1025), (12.9716, 77.5946)]\n"
          ],
          "name": "stdout"
        }
      ]
    },
    {
      "cell_type": "markdown",
      "metadata": {
        "id": "Pd8z7CnWVQo2",
        "colab_type": "text"
      },
      "source": [
        "# Strings"
      ]
    },
    {
      "cell_type": "code",
      "metadata": {
        "id": "dWuqL5ITWOuL",
        "colab_type": "code",
        "colab": {
          "base_uri": "https://localhost:8080/",
          "height": 134
        },
        "outputId": "f1290921-8af4-4bc8-e52f-9b398611b03f"
      },
      "source": [
        "#string multiplication\n",
        "name=\"deepank\"\n",
        "lastname=\"kartikey\"\n",
        "print(name * 3)\n",
        "#string upper/lower case\n",
        "print(name.upper())\n",
        "print(name.lower())\n",
        "#string capitalize\n",
        "print(name.capitalize())\n",
        "# FORMAT METHOD\n",
        "print(\"deepank {}\".format(lastname))\n",
        "# Split string\n",
        "print(\"deep ank kart i key\".split(\" \"))\n",
        "# JOIN METHOD\n",
        "age = ['I','am','24','years','old.']\n",
        "print(\" \".join(age))"
      ],
      "execution_count": 30,
      "outputs": [
        {
          "output_type": "stream",
          "text": [
            "deepankdeepankdeepank\n",
            "DEEPANK\n",
            "deepank\n",
            "Deepank\n",
            "deepank kartikey\n",
            "['deep', 'ank', 'kart', 'i', 'key']\n",
            "I am 24 years old.\n"
          ],
          "name": "stdout"
        }
      ]
    },
    {
      "cell_type": "code",
      "metadata": {
        "id": "TVQYghA_Yh5p",
        "colab_type": "code",
        "colab": {
          "base_uri": "https://localhost:8080/",
          "height": 101
        },
        "outputId": "b46abe37-272b-4f6e-82cb-8df403a40f44"
      },
      "source": [
        "word = \"Camus\"\n",
        "for i in range(len(word)):\n",
        "  print(word[i])\n"
      ],
      "execution_count": 20,
      "outputs": [
        {
          "output_type": "stream",
          "text": [
            "C\n",
            "a\n",
            "m\n",
            "u\n",
            "s\n"
          ],
          "name": "stdout"
        }
      ]
    },
    {
      "cell_type": "code",
      "metadata": {
        "id": "bycjdBrQZRau",
        "colab_type": "code",
        "colab": {
          "base_uri": "https://localhost:8080/",
          "height": 34
        },
        "outputId": "56ef0953-7ae7-4968-abdc-2dd64d5c1eaa"
      },
      "source": [
        "string = ['aldous','was','born','in','1894.']\n",
        "new_string = \" \".join(string)\n",
        "print(new_string.capitalize())"
      ],
      "execution_count": 22,
      "outputs": [
        {
          "output_type": "stream",
          "text": [
            "Aldous was born in 1894.\n"
          ],
          "name": "stdout"
        }
      ]
    },
    {
      "cell_type": "code",
      "metadata": {
        "id": "Mao7I98daMZC",
        "colab_type": "code",
        "colab": {
          "base_uri": "https://localhost:8080/",
          "height": 34
        },
        "outputId": "e6351a02-fe44-4016-94e2-41bc28f61f2b"
      },
      "source": [
        "sentence = \"Where now?Who now?When now?\"\n",
        "def getlist(sentence):\n",
        "    my_list = sentence.split(\"?\")\n",
        "    del my_list[3]\n",
        "    return my_list\n",
        "\n",
        "print(getlist(sentence))"
      ],
      "execution_count": 28,
      "outputs": [
        {
          "output_type": "stream",
          "text": [
            "['Where now', 'Who now', 'When now']\n"
          ],
          "name": "stdout"
        }
      ]
    },
    {
      "cell_type": "code",
      "metadata": {
        "id": "Xh7ntGndeLld",
        "colab_type": "code",
        "colab": {
          "base_uri": "https://localhost:8080/",
          "height": 34
        },
        "outputId": "a6b2e0b1-3ca6-45e7-cee7-012bc2312802"
      },
      "source": [
        "my_list = ['The','fox','jumped','over','the','fence','.']\n",
        "print(\" \".join(my_list))"
      ],
      "execution_count": 29,
      "outputs": [
        {
          "output_type": "stream",
          "text": [
            "The fox jumped over the fence .\n"
          ],
          "name": "stdout"
        }
      ]
    },
    {
      "cell_type": "code",
      "metadata": {
        "id": "7SMy_rrlGRQe",
        "colab_type": "code",
        "colab": {
          "base_uri": "https://localhost:8080/",
          "height": 34
        },
        "outputId": "c4468ce9-fe5c-4584-cb6a-2eb6cab7d012"
      },
      "source": [
        "sentence = \"It was a bright cold day in April, and the clocks were striking thirteen.\"\n",
        "print(sentence[:33])"
      ],
      "execution_count": 1,
      "outputs": [
        {
          "output_type": "stream",
          "text": [
            "It was a bright cold day in April\n"
          ],
          "name": "stdout"
        }
      ]
    },
    {
      "cell_type": "code",
      "metadata": {
        "id": "hDToGzKmH9Ts",
        "colab_type": "code",
        "colab": {
          "base_uri": "https://localhost:8080/",
          "height": 50
        },
        "outputId": "3b3c19f6-5696-4147-f887-a46ae2003fdf"
      },
      "source": [
        "book = \"It is \\\"Deepank\\\"\"\n",
        "print(\"Deepank\" in book)\n",
        "print(book[6:])\n"
      ],
      "execution_count": 3,
      "outputs": [
        {
          "output_type": "stream",
          "text": [
            "True\n",
            "\"Deepank\"\n"
          ],
          "name": "stdout"
        }
      ]
    },
    {
      "cell_type": "code",
      "metadata": {
        "id": "MsxJMwCUIVZs",
        "colab_type": "code",
        "colab": {
          "base_uri": "https://localhost:8080/",
          "height": 34
        },
        "outputId": "32ef13c6-1367-4519-adf9-c2ffde57cbb2"
      },
      "source": [
        "sentence = \"A screaming comes across the sky.\"\n",
        "new=sentence.replace('s','$')\n",
        "print(new)"
      ],
      "execution_count": 5,
      "outputs": [
        {
          "output_type": "stream",
          "text": [
            "A $creaming come$ acro$$ the $ky.\n"
          ],
          "name": "stdout"
        }
      ]
    },
    {
      "cell_type": "code",
      "metadata": {
        "id": "-PTUw6XtIvxq",
        "colab_type": "code",
        "colab": {
          "base_uri": "https://localhost:8080/",
          "height": 34
        },
        "outputId": "cf0739f7-7632-4153-8f9a-843fbe3b00ff"
      },
      "source": [
        "word = \"Hemingway\"\n",
        "print(word.index('m'))"
      ],
      "execution_count": 6,
      "outputs": [
        {
          "output_type": "stream",
          "text": [
            "2\n"
          ],
          "name": "stdout"
        }
      ]
    },
    {
      "cell_type": "markdown",
      "metadata": {
        "id": "tJjudByhI2QV",
        "colab_type": "text"
      },
      "source": [
        "# For Loop"
      ]
    },
    {
      "cell_type": "code",
      "metadata": {
        "id": "fND_-dXhI5di",
        "colab_type": "code",
        "colab": {
          "base_uri": "https://localhost:8080/",
          "height": 84
        },
        "outputId": "e5abd7bf-e48e-4ea1-c78c-2c1166654db2"
      },
      "source": [
        "series = [\"The Walking Dead\",\"Entourage\",\"The Sopranos\",\"The Vampire Diaries\"]\n",
        "i=0\n",
        "for show in series:\n",
        "    print(str(i)+\" \"+show)\n",
        "    i=i+1"
      ],
      "execution_count": 12,
      "outputs": [
        {
          "output_type": "stream",
          "text": [
            "0 The Walking Dead\n",
            "1 Entourage\n",
            "2 The Sopranos\n",
            "3 The Vampire Diaries\n"
          ],
          "name": "stdout"
        }
      ]
    },
    {
      "cell_type": "code",
      "metadata": {
        "id": "KfAJCNdnLoIG",
        "colab_type": "code",
        "colab": {
          "base_uri": "https://localhost:8080/",
          "height": 202
        },
        "outputId": "b09d7e7f-9ced-4885-9031-d7a54c32275e"
      },
      "source": [
        "for i in range(20,31):\n",
        "    print(i)"
      ],
      "execution_count": 8,
      "outputs": [
        {
          "output_type": "stream",
          "text": [
            "20\n",
            "21\n",
            "22\n",
            "23\n",
            "24\n",
            "25\n",
            "26\n",
            "27\n",
            "28\n",
            "29\n",
            "30\n"
          ],
          "name": "stdout"
        }
      ]
    },
    {
      "cell_type": "markdown",
      "metadata": {
        "id": "-OXB6Ki6MWHm",
        "colab_type": "text"
      },
      "source": [
        "# While Loops"
      ]
    },
    {
      "cell_type": "code",
      "metadata": {
        "id": "2FMdGhhDQM1L",
        "colab_type": "code",
        "colab": {
          "base_uri": "https://localhost:8080/",
          "height": 34
        },
        "outputId": "e3f41477-b926-4739-ca80-9fcafcd61a0a"
      },
      "source": [
        "first = [8,19,4]\n",
        "second = [9,1,33]\n",
        "third = []\n",
        "for item1 in first:\n",
        "    for item2 in second:\n",
        "        third.append(item1*item2)\n",
        "print(third)"
      ],
      "execution_count": 22,
      "outputs": [
        {
          "output_type": "stream",
          "text": [
            "[72, 8, 264, 171, 19, 627, 36, 4, 132]\n"
          ],
          "name": "stdout"
        }
      ]
    },
    {
      "cell_type": "markdown",
      "metadata": {
        "id": "pKDYG1WvOAeO",
        "colab_type": "text"
      },
      "source": [
        "# Assignment 2"
      ]
    },
    {
      "cell_type": "markdown",
      "metadata": {
        "id": "vtJgs4zZOEQ9",
        "colab_type": "text"
      },
      "source": [
        "Write a program with an infinite loop and a list of numbers. Each time through the loop the program should ask the user to guess a number (or type q to quit). If they type q, the program should end. Otherwise, it should tell them whether or not they successfully guessed a number in the list or not."
      ]
    },
    {
      "cell_type": "code",
      "metadata": {
        "id": "SjLQv1mUOGvx",
        "colab_type": "code",
        "colab": {
          "base_uri": "https://localhost:8080/",
          "height": 101
        },
        "outputId": "0f8d801b-9e94-419e-f27b-292577038be4"
      },
      "source": [
        "while True:\n",
        "  user = input('guess a number or type q to quit:')\n",
        "  numbers = [1,2,3,4,5,6,7,8,9,10]\n",
        "  if user == 'q':\n",
        "    break;\n",
        "  if int(user) in numbers:\n",
        "    print(\"Correct\")\n",
        "  else:\n",
        "    print(\"Incorrect\")\n",
        "  \n",
        "  "
      ],
      "execution_count": 21,
      "outputs": [
        {
          "output_type": "stream",
          "text": [
            "guess a number or type q to quit:3\n",
            "Correct\n",
            "guess a number or type q to quit:34\n",
            "Incorrect\n",
            "guess a number or type q to quit:q\n"
          ],
          "name": "stdout"
        }
      ]
    },
    {
      "cell_type": "markdown",
      "metadata": {
        "id": "_v4ZhsPvZz37",
        "colab_type": "text"
      },
      "source": [
        "# Modules"
      ]
    },
    {
      "cell_type": "markdown",
      "metadata": {
        "id": "8nU5L7fnZ15j",
        "colab_type": "text"
      },
      "source": [
        "import [module_name]\n"
      ]
    },
    {
      "cell_type": "markdown",
      "metadata": {
        "id": "742f33mdZ6zk",
        "colab_type": "text"
      },
      "source": [
        "\n",
        "\n",
        "1.   Math: pow()\n",
        "2.   Random: randint()\n",
        "3.   Statistics: mean(), median(), mode()\n",
        "\n"
      ]
    },
    {
      "cell_type": "code",
      "metadata": {
        "id": "jF3l-paNa7We",
        "colab_type": "code",
        "colab": {
          "base_uri": "https://localhost:8080/",
          "height": 34
        },
        "outputId": "72afa0a9-9cad-4746-98be-12574fa43736"
      },
      "source": [
        "import statistics;\n",
        "num = [1,2,2,3]\n",
        "print(statistics.mean(num))"
      ],
      "execution_count": 23,
      "outputs": [
        {
          "output_type": "stream",
          "text": [
            "2\n"
          ],
          "name": "stdout"
        }
      ]
    },
    {
      "cell_type": "markdown",
      "metadata": {
        "id": "LMy4e2UjcB1a",
        "colab_type": "text"
      },
      "source": [
        "## Files"
      ]
    },
    {
      "cell_type": "markdown",
      "metadata": {
        "id": "52co_0dBcwmq",
        "colab_type": "text"
      },
      "source": [
        "# **Open File**\n",
        ">Open file Modes\n",
        "* r - reading\n",
        "* w - writing\n",
        "* \n",
        "w+ - read and write\n",
        "\n",
        "> open([file_path],[mode])\n",
        " \n",
        "\n"
      ]
    },
    {
      "cell_type": "markdown",
      "metadata": {
        "id": "2vvZEsFAd76J",
        "colab_type": "text"
      },
      "source": [
        "# **With statement** - closes file automatically \n",
        "with open('st.txt','w') as f:\n",
        "    f.write('hi from here')\n"
      ]
    },
    {
      "cell_type": "code",
      "metadata": {
        "id": "9T2dq7hIchpj",
        "colab_type": "code",
        "colab": {
          "base_uri": "https://localhost:8080/",
          "height": 34
        },
        "outputId": "185137a2-9e7d-429b-b9a5-547822954cb3"
      },
      "source": [
        "## Creating file path\n",
        "import os;\n",
        "os.path.join('Users','kartikeyd','log.txt')\n",
        "\n"
      ],
      "execution_count": 26,
      "outputs": [
        {
          "output_type": "execute_result",
          "data": {
            "text/plain": [
              "'Users/kartikeyd/log.txt'"
            ]
          },
          "metadata": {
            "tags": []
          },
          "execution_count": 26
        }
      ]
    },
    {
      "cell_type": "markdown",
      "metadata": {
        "id": "uvIrpVLzgaw3",
        "colab_type": "text"
      },
      "source": [
        "# Work with CSV"
      ]
    },
    {
      "cell_type": "markdown",
      "metadata": {
        "id": "IR63XyxqfBIf",
        "colab_type": "text"
      },
      "source": [
        "```\n",
        "# WRITE CSV\n",
        "import csv\n",
        "with open('C:\\\\Users\\\\kartikd\\\\st.csv','w') as f:\n",
        "          write=csv.writer(f,delimiter=',')\n",
        "          write.writerow([\"one\",\"two\",\"three\"])\n",
        "          write.writerow([\"four\",\"five\",\"six\"])\n",
        "```\n",
        "\n"
      ]
    },
    {
      "cell_type": "markdown",
      "metadata": {
        "id": "rMBlVSZPgo7_",
        "colab_type": "text"
      },
      "source": [
        "```\n",
        "# READ CSV\n",
        "import csv\n",
        "with open(C:\\\\Users\\\\kartikd\\\\st.csv','r') as f:\n",
        "          r=csv.reader(f,delimiter=',')\n",
        "          for row in r:\n",
        "            print(\",\".join(row))\n",
        "```\n",
        "\n"
      ]
    },
    {
      "cell_type": "markdown",
      "metadata": {
        "id": "l1s5A3wjhiuT",
        "colab_type": "text"
      },
      "source": [
        "# Assignment 4"
      ]
    },
    {
      "cell_type": "markdown",
      "metadata": {
        "id": "TfERsMM-hm4G",
        "colab_type": "text"
      },
      "source": [
        "Take the items in this list of lists: [[\"Top Gun\", \"Risky Business\", \"Minority Report\"], [\"Titanic\", \"The Revenant\", \"Inception\"], [\"Training Day\", \"Man on Fire\", \"Flight\"]] and write them to a CSV file. The data from each list should be a row in the file, with each item in the list separated by a"
      ]
    },
    {
      "cell_type": "code",
      "metadata": {
        "id": "zHciJFMbmeE0",
        "colab_type": "code",
        "colab": {
          "base_uri": "https://localhost:8080/",
          "height": 67
        },
        "outputId": "0a814b29-fbb3-499f-bb86-8a2baf83ccae"
      },
      "source": [
        "import csv;\n",
        "lol = [[\"Top Gun\", \"Risky Business\", \"Minority Report\"], [\"Titanic\", \"The Revenant\", \"Inception\"], [\"Training Day\", \"Man on Fire\", \"Flight\"]]\n",
        "with open('st.csv','w') as f:\n",
        "          write=csv.writer(f,delimiter=',')\n",
        "          for i in lol:\n",
        "            write.writerow(i)\n"
      ],
      "execution_count": 29,
      "outputs": [
        {
          "output_type": "stream",
          "text": [
            "['Top Gun', 'Risky Business', 'Minority Report']\n",
            "['Titanic', 'The Revenant', 'Inception']\n",
            "['Training Day', 'Man on Fire', 'Flight']\n"
          ],
          "name": "stdout"
        }
      ]
    },
    {
      "cell_type": "markdown",
      "metadata": {
        "id": "bg_K872goORZ",
        "colab_type": "text"
      },
      "source": [
        "# Hangman"
      ]
    },
    {
      "cell_type": "markdown",
      "metadata": {
        "id": "nZKb2tac2n4v",
        "colab_type": "text"
      },
      "source": [
        "Steps to create\n",
        "* Create method hangman(word)\n",
        "* Variables\n",
        "> 1. wrong - to keep wrong answers count\n",
        "> 2. stages - stages of generating hangman- list of elements\n",
        "> 3. remaining_letters - list of word\n",
        "> 4. board - to represent blanks\n",
        "> 5. win - to define a win or loss\n",
        "* Loop to keep game going\n",
        "> * wrong tries < len(stages)-1\n",
        "> * guess a letter - save in char\n",
        "> * > * check if guess was correct, by seeing list of remaining_letters\n",
        "> * > * update board[], if guess was correct\n",
        "> * > * replace guessed letter by $ in remaining_letters list\n",
        "> * if guess was incorrect\n",
        "> * > * increment wrong\n",
        "> * > * display board[] with a \" \" for next guess\n",
        "> * > * display hangman based count of wrong using stages[]\n",
        "> * > * e=wrong+1  \"\\n\".join(stages[0:e])\n",
        "> * if no \"_\" left in board:\n",
        "> * > * user won  win=True\n",
        "> * > * print board[]\n",
        "> * > * break\n",
        "> * if NOT win:\n",
        "> * > * print complete hangman stages\n",
        "> * > * print you lost\n",
        "> * > * print the correct word\n",
        "\n",
        "\n",
        "\n",
        "\n",
        "\n",
        "\n"
      ]
    },
    {
      "cell_type": "code",
      "metadata": {
        "id": "G-HkzTxB32qk",
        "colab_type": "code",
        "colab": {}
      },
      "source": [
        "def hangman(word):\n",
        "  wrong = 0;\n",
        "  stages = [\"\",\n",
        "             \"________        \",\n",
        "             \"|               \",\n",
        "             \"|        |      \",\n",
        "             \"|        0      \",\n",
        "             \"|       /|\\     \",\n",
        "             \"|       / \\     \",\n",
        "             \"|               \"\n",
        "              ]\n",
        "  remaining_letters = list(word)\n",
        "  board = [\"_\"] * len(word)\n",
        "  win = False\n",
        "  print(\"Welcome to Hangman\")\n",
        "\n",
        "while wrong < len(stages)-1:\n",
        "  print(\"\\n\")\n",
        "  msg = \"Guess a letter\"\n",
        "  char = input(msg)\n",
        "\n",
        "  if char in remaining_letters:\n",
        "    c_index = remaining_letters.index(char)\n",
        "    board[c_index] = char\n",
        "    remaining_letters[c_index] = '$'\n",
        "  else:\n",
        "    wrong += 1\n",
        "    print((\" \").join(board))\n",
        "    e = wrong + 1\n",
        "    print((\"\\n\").join(stages[0:e]))\n",
        "  if \"_\" not in board:\n",
        "    print(\"You win!\")\n",
        "    print((\" \").join(board))\n",
        "    win = True\n",
        "    break \n",
        "  if not win:\n",
        "    print((\"\\n\").join(stages[0:wrong]))\n",
        "    print(\"You Lost! It was {}.\".format(word))"
      ],
      "execution_count": 0,
      "outputs": []
    },
    {
      "cell_type": "markdown",
      "metadata": {
        "id": "_Pti-B6YFJWt",
        "colab_type": "text"
      },
      "source": [
        "# Assignment 5"
      ]
    },
    {
      "cell_type": "markdown",
      "metadata": {
        "id": "caVU-Z-BFL_9",
        "colab_type": "text"
      },
      "source": [
        "Modify the game, so a word is selected randomly from a list of words."
      ]
    },
    {
      "cell_type": "code",
      "metadata": {
        "id": "IgdiS0c8FaYu",
        "colab_type": "code",
        "colab": {
          "base_uri": "https://localhost:8080/",
          "height": 823
        },
        "outputId": "3f1fbea0-7dac-425a-ba2d-72b0c2858717"
      },
      "source": [
        "import random;\n",
        "\n",
        "def hangman(word):\n",
        "  wrong = 0;\n",
        "  stages = [\"\",\n",
        "             \"________        \",\n",
        "             \"|               \",\n",
        "             \"|        |      \",\n",
        "             \"|        0      \",\n",
        "             \"|       /|\\     \",\n",
        "             \"|       / \\     \",\n",
        "             \"|               \"]\n",
        "  remaining_letters = list(word)\n",
        "  board = [\"_\"] * len(word)\n",
        "  win = False\n",
        "  print(\"Welcome to Hangman\")\n",
        "\n",
        "  while wrong < len(stages)-1:\n",
        "    print(\"\\n\")\n",
        "    #print((\" \").join(board))\n",
        "    msg = \"Guess a letter \"\n",
        "    char = input(msg)\n",
        "    #print(remaining_letters)\n",
        "    if char in remaining_letters:\n",
        "      c_index = remaining_letters.index(char)\n",
        "      board[c_index] = char\n",
        "      remaining_letters[c_index] = '$'\n",
        "    else:\n",
        "      wrong += 1\n",
        "    print((\" \").join(board))\n",
        "    e = wrong + 1\n",
        "    print((\"\\n\").join(stages[0:e]))\n",
        "    if \"_\" not in board:\n",
        "      print(\"You win!\")\n",
        "      print((\" \").join(board))\n",
        "      win = True\n",
        "      break \n",
        "  if not win:\n",
        "    print((\"\\n\").join(stages[0:wrong]))\n",
        "    print(\"You Lost! It was {}.\".format(word))\n",
        "  \n",
        "\n",
        "words = ['cat','bat','cow','dog','bird']\n",
        "random_word = words[random.randint(0,4)]\n",
        "hangman(random_word)"
      ],
      "execution_count": 22,
      "outputs": [
        {
          "output_type": "stream",
          "text": [
            "Welcome to Hangman\n",
            "\n",
            "\n",
            "Guess a letter d\n",
            "_ _ _\n",
            "\n",
            "________        \n",
            "\n",
            "\n",
            "Guess a letter d\n",
            "_ _ _\n",
            "\n",
            "________        \n",
            "|               \n",
            "\n",
            "\n",
            "Guess a letter c\n",
            "_ _ _\n",
            "\n",
            "________        \n",
            "|               \n",
            "|        |      \n",
            "\n",
            "\n",
            "Guess a letter b\n",
            "b _ _\n",
            "\n",
            "________        \n",
            "|               \n",
            "|        |      \n",
            "\n",
            "\n",
            "Guess a letter a\n",
            "b a _\n",
            "\n",
            "________        \n",
            "|               \n",
            "|        |      \n",
            "\n",
            "\n",
            "Guess a letter t\n",
            "b a t\n",
            "\n",
            "________        \n",
            "|               \n",
            "|        |      \n",
            "You win!\n",
            "b a t\n"
          ],
          "name": "stdout"
        }
      ]
    },
    {
      "cell_type": "code",
      "metadata": {
        "id": "mzowYespF6OK",
        "colab_type": "code",
        "colab": {
          "base_uri": "https://localhost:8080/",
          "height": 54
        },
        "outputId": "9ef99d21-6b02-49cf-b280-99e16611907d"
      },
      "source": [
        "stages = [\"\",\n",
        "             \"________        \",\n",
        "             \"|               \",\n",
        "             \"|        |      \",\n",
        "             \"|        0      \",\n",
        "             \"|       /|\\     \",\n",
        "             \"|       / \\     \",\n",
        "             \"|               \"]\n",
        "print(stages[0:len(stages)])"
      ],
      "execution_count": 15,
      "outputs": [
        {
          "output_type": "stream",
          "text": [
            "['', '________        ', '|               ', '|        |      ', '|        0      ', '|       /|\\\\     ', '|       / \\\\     ', '|               ']\n"
          ],
          "name": "stdout"
        }
      ]
    }
  ]
}