{
  "nbformat": 4,
  "nbformat_minor": 0,
  "metadata": {
    "colab": {
      "name": "Python.ipynb",
      "provenance": [],
      "authorship_tag": "ABX9TyNmsBWfh557Bs3vKV16v/nC",
      "include_colab_link": true
    },
    "kernelspec": {
      "name": "python3",
      "display_name": "Python 3"
    },
    "accelerator": "GPU"
  },
  "cells": [
    {
      "cell_type": "markdown",
      "metadata": {
        "id": "view-in-github",
        "colab_type": "text"
      },
      "source": [
        "<a href=\"https://colab.research.google.com/github/deepank120896/Learn-Data-Science/blob/master/Python.ipynb\" target=\"_parent\"><img src=\"https://colab.research.google.com/assets/colab-badge.svg\" alt=\"Open In Colab\"/></a>"
      ]
    },
    {
      "cell_type": "code",
      "metadata": {
        "id": "FA0S1n9A1BKA",
        "colab_type": "code",
        "outputId": "d2f3201c-3ac5-405b-ed95-c15ff4d17672",
        "colab": {
          "base_uri": "https://localhost:8080/",
          "height": 121
        }
      },
      "source": [
        "from google.colab import drive\n",
        "drive.mount('/content/gdrive')"
      ],
      "execution_count": 0,
      "outputs": [
        {
          "output_type": "stream",
          "text": [
            "Go to this URL in a browser: https://accounts.google.com/o/oauth2/auth?client_id=947318989803-6bn6qk8qdgf4n4g3pfee6491hc0brc4i.apps.googleusercontent.com&redirect_uri=urn%3aietf%3awg%3aoauth%3a2.0%3aoob&response_type=code&scope=email%20https%3a%2f%2fwww.googleapis.com%2fauth%2fdocs.test%20https%3a%2f%2fwww.googleapis.com%2fauth%2fdrive%20https%3a%2f%2fwww.googleapis.com%2fauth%2fdrive.photos.readonly%20https%3a%2f%2fwww.googleapis.com%2fauth%2fpeopleapi.readonly\n",
            "\n",
            "Enter your authorization code:\n",
            "··········\n",
            "Mounted at /content/gdrive\n"
          ],
          "name": "stdout"
        }
      ]
    },
    {
      "cell_type": "code",
      "metadata": {
        "id": "EkVLGt6g2OZs",
        "colab_type": "code",
        "colab": {}
      },
      "source": [
        "!wget -cq https://s3.amazonaws.com/content.udacity-data.com/courses/nd188/flower_data.zip\n"
      ],
      "execution_count": 0,
      "outputs": []
    },
    {
      "cell_type": "code",
      "metadata": {
        "id": "uu05FqLF3-wl",
        "colab_type": "code",
        "colab": {}
      },
      "source": [
        "!unzip -qq flower_data.zip"
      ],
      "execution_count": 0,
      "outputs": []
    },
    {
      "cell_type": "code",
      "metadata": {
        "id": "-M6JJS314Cus",
        "colab_type": "code",
        "outputId": "834951c6-3c5c-496f-9f32-49eed9ce89a8",
        "colab": {
          "base_uri": "https://localhost:8080/",
          "height": 605
        }
      },
      "source": [
        "!ls \"/content/drive/My Drive/\""
      ],
      "execution_count": 0,
      "outputs": [
        {
          "output_type": "stream",
          "text": [
            " aadhar.jpg\n",
            "'ACI Worldwide'\n",
            "'Akshat Kaushal - AIR 55, Sociology, Paper-1 notes.pdf'\n",
            "'Akshat Kaushal, AIR 55, Sociology, Paper 2.pdf'\n",
            "'Amritsar, Golden Temple 2018'\n",
            "'Colab Notebooks'\n",
            " First_Cut\n",
            " Happy-Birthday-Instrumental.mp3\n",
            " IAD\n",
            " IMG_20180516_061234.jpg\n",
            "'Indian Army Officer Opening_TGC-128.pdf'\n",
            "'Indian Bank Pass Book.jpeg'\n",
            "'KIZEN - Infinite Off Season.xlsx'\n",
            " Masters\n",
            "'Meals, Diet'\n",
            "'my photo.jpg'\n",
            "'OCA Java SE 8 Programmer I Certification Guide.pdf'\n",
            " Passport.jpg\n",
            " Photos\n",
            "'receiving award.jpg'\n",
            " Resume.doc\n",
            " Resume.pdf\n",
            "\"Share 'New Doc 2019-07-27 16.07.27.pdf'.pdf\"\n",
            "'Smolov Bench (3 weeks).xlsx'\n",
            " Snowcity\n",
            "'Sociology_Optional_Class_Notes_by_Mahapatra (www.UPSCPDF.com).pdf'\n",
            "'SSC CGL 2018'\n",
            " Study\n",
            "'Tiger Zinda hai 2017'\n",
            "'today is a gift.mp3'\n",
            "'UIAS VOL-1(UPSCPDF.com) IAS .pdf'\n",
            "'UIAS VOL-2(UPSCPDF.com).pdf'\n",
            " Video\n",
            " VIT\n",
            " workout\n"
          ],
          "name": "stdout"
        }
      ]
    },
    {
      "cell_type": "code",
      "metadata": {
        "id": "cF6Q11Al4bjF",
        "colab_type": "code",
        "outputId": "81abe1c7-9b9b-40c8-8a76-32992f71b8bb",
        "colab": {
          "base_uri": "https://localhost:8080/",
          "height": 296
        }
      },
      "source": [
        "import sklearn_crfsuite"
      ],
      "execution_count": 0,
      "outputs": [
        {
          "output_type": "error",
          "ename": "ModuleNotFoundError",
          "evalue": "ignored",
          "traceback": [
            "\u001b[0;31m---------------------------------------------------------------------------\u001b[0m",
            "\u001b[0;31mModuleNotFoundError\u001b[0m                       Traceback (most recent call last)",
            "\u001b[0;32m<ipython-input-8-de82b20ea1a9>\u001b[0m in \u001b[0;36m<module>\u001b[0;34m()\u001b[0m\n\u001b[0;32m----> 1\u001b[0;31m \u001b[0;32mimport\u001b[0m \u001b[0msklearn_crfsuite\u001b[0m\u001b[0;34m\u001b[0m\u001b[0;34m\u001b[0m\u001b[0m\n\u001b[0m",
            "\u001b[0;31mModuleNotFoundError\u001b[0m: No module named 'sklearn_crfsuite'",
            "",
            "\u001b[0;31m---------------------------------------------------------------------------\u001b[0;32m\nNOTE: If your import is failing due to a missing package, you can\nmanually install dependencies using either !pip or !apt.\n\nTo view examples of installing some common dependencies, click the\n\"Open Examples\" button below.\n\u001b[0;31m---------------------------------------------------------------------------\u001b[0m\n"
          ]
        }
      ]
    },
    {
      "cell_type": "code",
      "metadata": {
        "id": "Gm-iWNX-6EBs",
        "colab_type": "code",
        "outputId": "d7754533-23bc-4fb4-84bb-5be231209699",
        "colab": {
          "base_uri": "https://localhost:8080/",
          "height": 205
        }
      },
      "source": [
        "!pip install sklearn_crfsuite"
      ],
      "execution_count": 0,
      "outputs": [
        {
          "output_type": "stream",
          "text": [
            "Collecting sklearn_crfsuite\n",
            "  Downloading https://files.pythonhosted.org/packages/25/74/5b7befa513482e6dee1f3dd68171a6c9dfc14c0eaa00f885ffeba54fe9b0/sklearn_crfsuite-0.3.6-py2.py3-none-any.whl\n",
            "Collecting python-crfsuite>=0.8.3\n",
            "\u001b[?25l  Downloading https://files.pythonhosted.org/packages/95/99/869dde6dbf3e0d07a013c8eebfb0a3d30776334e0097f8432b631a9a3a19/python_crfsuite-0.9.7-cp36-cp36m-manylinux1_x86_64.whl (743kB)\n",
            "\u001b[K     |████████████████████████████████| 747kB 3.8MB/s \n",
            "\u001b[?25hRequirement already satisfied: six in /usr/local/lib/python3.6/dist-packages (from sklearn_crfsuite) (1.12.0)\n",
            "Requirement already satisfied: tabulate in /usr/local/lib/python3.6/dist-packages (from sklearn_crfsuite) (0.8.7)\n",
            "Requirement already satisfied: tqdm>=2.0 in /usr/local/lib/python3.6/dist-packages (from sklearn_crfsuite) (4.38.0)\n",
            "Installing collected packages: python-crfsuite, sklearn-crfsuite\n",
            "Successfully installed python-crfsuite-0.9.7 sklearn-crfsuite-0.3.6\n"
          ],
          "name": "stdout"
        }
      ]
    },
    {
      "cell_type": "code",
      "metadata": {
        "id": "5Ja3W0h46z30",
        "colab_type": "code",
        "colab": {}
      },
      "source": [
        "import sklearn_crfsuite"
      ],
      "execution_count": 0,
      "outputs": []
    },
    {
      "cell_type": "code",
      "metadata": {
        "id": "1-4KD38B66yJ",
        "colab_type": "code",
        "colab": {
          "base_uri": "https://localhost:8080/",
          "height": 50
        },
        "outputId": "acf04a46-79ee-4cfe-b240-90f7980dbb6f"
      },
      "source": [
        "# Assign variable names\n",
        "age=12\n",
        "name=\"john\"\n",
        "# Check types\n",
        "type_age=type(age)\n",
        "type_name=type(name)\n",
        "# print out types\n",
        "print(type_age)\n",
        "print(type_name)\n",
        "# Code ends here"
      ],
      "execution_count": 1,
      "outputs": [
        {
          "output_type": "stream",
          "text": [
            "<class 'int'>\n",
            "<class 'str'>\n"
          ],
          "name": "stdout"
        }
      ]
    },
    {
      "cell_type": "code",
      "metadata": {
        "id": "4jfeiCdKgHf7",
        "colab_type": "code",
        "colab": {}
      },
      "source": [
        "complex numbers of the form $\\ a + bJ$"
      ],
      "execution_count": 0,
      "outputs": []
    },
    {
      "cell_type": "code",
      "metadata": {
        "id": "lH2umxxJgaFg",
        "colab_type": "code",
        "colab": {
          "base_uri": "https://localhost:8080/",
          "height": 34
        },
        "outputId": "056956f1-0efb-49ea-8d11-359680048fb7"
      },
      "source": [
        "# Code starts here\n",
        "\n",
        "# store variable names\n",
        "P=1000\n",
        "r=10\n",
        "n=2\n",
        "# compound interest formula\n",
        "A=P*(pow((1+r/100),n))\n",
        "\n",
        "# display compound interest\n",
        "interest=A-P\n",
        "\n",
        "# display interest\n",
        "print(interest)\n",
        "\n",
        "# Code ends here"
      ],
      "execution_count": 2,
      "outputs": [
        {
          "output_type": "stream",
          "text": [
            "210.00000000000023\n"
          ],
          "name": "stdout"
        }
      ]
    },
    {
      "cell_type": "markdown",
      "metadata": {
        "id": "xV-zB7vji5W2",
        "colab_type": "text"
      },
      "source": [
        ""
      ]
    },
    {
      "cell_type": "code",
      "metadata": {
        "id": "aIrkcUnoi6o8",
        "colab_type": "code",
        "colab": {}
      },
      "source": [
        "Strings in Python\n",
        "Single quotes: Example: name = 'Paul'.\n",
        "Double quotes: Example: name = \"Paul\"\n",
        "Triple quotes: They are used so that we can work with multi-line strings, and all associated whitespace will be included in the string.\n",
        "Example: \"\"\"This is a function. Do not change it or else it will not work\"\"\""
      ],
      "execution_count": 0,
      "outputs": []
    },
    {
      "cell_type": "markdown",
      "metadata": {
        "id": "Nm2H2B8ommWZ",
        "colab_type": "text"
      },
      "source": [
        "**STRINGS**"
      ]
    },
    {
      "cell_type": "code",
      "metadata": {
        "id": "GIU-8ywwi-dd",
        "colab_type": "code",
        "colab": {
          "base_uri": "https://localhost:8080/",
          "height": 118
        },
        "outputId": "84b187f6-d4b8-4955-d073-36ef6376198e"
      },
      "source": [
        "# initialize variables\n",
        "name, title = 'Monty', 'Python'\n",
        "\n",
        "# Code starts here\n",
        "# full name\n",
        "full_name=name+\" \"+title\n",
        "print(full_name)\n",
        "\n",
        "# first name\n",
        "first_name=full_name[0:5]\n",
        "print(first_name)\n",
        "\n",
        "# length of full name\n",
        "len_name=len(full_name)-1\n",
        "print(len_name)\n",
        "\n",
        "# Is \"f\" in full name?\n",
        "is_f='f' in full_name\n",
        "print(is_f)\n",
        "\n",
        "# Split into first name and title\n",
        "split=full_name.split(\" \")\n",
        "print(split[0])\n",
        "print(split[1])\n",
        "\n",
        "# Code ends here"
      ],
      "execution_count": 3,
      "outputs": [
        {
          "output_type": "stream",
          "text": [
            "Monty Python\n",
            "Monty\n",
            "11\n",
            "False\n",
            "Monty\n",
            "Python\n"
          ],
          "name": "stdout"
        }
      ]
    },
    {
      "cell_type": "markdown",
      "metadata": {
        "id": "7z-7Q1RzoAKG",
        "colab_type": "text"
      },
      "source": [
        "**LISTS**"
      ]
    },
    {
      "cell_type": "code",
      "metadata": {
        "id": "QYiJjtzVoCLX",
        "colab_type": "code",
        "colab": {
          "base_uri": "https://localhost:8080/",
          "height": 67
        },
        "outputId": "b1d5ab1d-101b-48b1-864c-96272c82cf69"
      },
      "source": [
        "# Code starts here\n",
        "# create list of weights\n",
        "weights=[70,80,45,50]\n",
        "\n",
        "# maximum weight\n",
        "maximum=max(weights)\n",
        "print(maximum)\n",
        "\n",
        "# change values\n",
        "weights[2]=48\n",
        "\n",
        "# calculate sum\n",
        "total=sum(weights)\n",
        "print(total)\n",
        "\n",
        "# calculate mean\n",
        "elements=len(weights)\n",
        "mean=total/elements\n",
        "print(mean)\n",
        "\n",
        "# Code ends here"
      ],
      "execution_count": 4,
      "outputs": [
        {
          "output_type": "stream",
          "text": [
            "80\n",
            "248\n",
            "62.0\n"
          ],
          "name": "stdout"
        }
      ]
    },
    {
      "cell_type": "markdown",
      "metadata": {
        "id": "PamVMxInpihA",
        "colab_type": "text"
      },
      "source": [
        "**DICTIONARY**"
      ]
    },
    {
      "cell_type": "code",
      "metadata": {
        "id": "BTIN_WdwplYE",
        "colab_type": "code",
        "colab": {
          "base_uri": "https://localhost:8080/",
          "height": 34
        },
        "outputId": "8a3058bd-1d46-4f05-b3b6-a7079fd4b7ce"
      },
      "source": [
        "# Code starts here\n",
        "# initialize dictionary\n",
        "fruits={'apple':'green','banana':'yellow','cherry':'red'}\n",
        "\n",
        "# change color of apple\n",
        "fruits['apple']='red'\n",
        "\n",
        "# add guava\n",
        "fruits['guava']='green'\n",
        "\n",
        "# delete cherry\n",
        "del fruits['cherry']\n",
        "\n",
        "# display fruits\n",
        "print(fruits)\n",
        "\n",
        "# Code ends here"
      ],
      "execution_count": 1,
      "outputs": [
        {
          "output_type": "stream",
          "text": [
            "{'apple': 'red', 'banana': 'yellow', 'guava': 'green'}\n"
          ],
          "name": "stdout"
        }
      ]
    },
    {
      "cell_type": "markdown",
      "metadata": {
        "id": "mcIh4sXSFddM",
        "colab_type": "text"
      },
      "source": [
        "**TUPLE(S)**\n",
        "You cannot delete an element from the tuple (as they are immutable), but you can delete the entire tuple."
      ]
    },
    {
      "cell_type": "code",
      "metadata": {
        "id": "EaYhxL2NGTOY",
        "colab_type": "code",
        "colab": {
          "base_uri": "https://localhost:8080/",
          "height": 84
        },
        "outputId": "b94209a6-d06c-44a7-a598-0a1f60709a29"
      },
      "source": [
        "# create tuple of weights\n",
        "weights = (70, 80, 45, 50)\n",
        "\n",
        "# Code starts here\n",
        "# create new tuple of weights\n",
        "weights_new = (70, 80, 48, 50)\n",
        "\n",
        "# calculate maximum and minimum weights\n",
        "maximum = max(weights_new)\n",
        "minimum = min(weights_new)\n",
        "print(maximum)\n",
        "print(minimum)\n",
        "# calculate sum of weights\n",
        "sum_weights = sum(weights_new)\n",
        "print(sum_weights)\n",
        "# calculate mean\n",
        "mean_new = sum_weights/len(weights_new)\n",
        "print(mean_new)\n",
        "# Code ends here"
      ],
      "execution_count": 2,
      "outputs": [
        {
          "output_type": "stream",
          "text": [
            "80\n",
            "48\n",
            "248\n",
            "62.0\n"
          ],
          "name": "stdout"
        }
      ]
    },
    {
      "cell_type": "markdown",
      "metadata": {
        "id": "SVGhrFLfJazT",
        "colab_type": "text"
      },
      "source": [
        "**Checking Mutability**\n",
        "\n",
        "You can check if an object is mutable by first modifying the object and then comparing its new memory location with the old memory location. You can check for memory location either by using the id() function, which gives the memory location of an object or with the help of is operator, which checks for the identity of two objects."
      ]
    },
    {
      "cell_type": "code",
      "metadata": {
        "id": "IP4P0B_9JfPK",
        "colab_type": "code",
        "colab": {
          "base_uri": "https://localhost:8080/",
          "height": 34
        },
        "outputId": "94b333e6-7a0d-4447-ca52-364e03623fcf"
      },
      "source": [
        "l=[1,3,5,7,5] \n",
        "l.remove(5)\n",
        "print(l)"
      ],
      "execution_count": 7,
      "outputs": [
        {
          "output_type": "stream",
          "text": [
            "[1, 3, 7, 5]\n"
          ],
          "name": "stdout"
        }
      ]
    },
    {
      "cell_type": "markdown",
      "metadata": {
        "id": "QEhEU8_bmMAS",
        "colab_type": "text"
      },
      "source": [
        "**ARITHMETIC OPERATORS**"
      ]
    },
    {
      "cell_type": "code",
      "metadata": {
        "id": "oR6Il2zGmPR2",
        "colab_type": "code",
        "colab": {
          "base_uri": "https://localhost:8080/",
          "height": 118
        },
        "outputId": "602d94a9-ab5e-4165-845b-4d9ae864bd11"
      },
      "source": [
        "x=15\n",
        "y=4\n",
        "\n",
        "# addition\n",
        "addition = x + y\n",
        "# subtraction\n",
        "subtraction = x - y\n",
        "# multiplication\n",
        "multiplication = x * y\n",
        "# divison\n",
        "division = x / y\n",
        "# integer_division\n",
        "integer_division = x // y\n",
        "# exponentiation\n",
        "exponent = x ** y\n",
        "\n",
        "# result\n",
        "print(addition)\n",
        "print(subtraction)\n",
        "print(multiplication)\n",
        "print(division)\n",
        "print(integer_division)\n",
        "print(exponent)"
      ],
      "execution_count": 1,
      "outputs": [
        {
          "output_type": "stream",
          "text": [
            "19\n",
            "11\n",
            "60\n",
            "3.75\n",
            "3\n",
            "50625\n"
          ],
          "name": "stdout"
        }
      ]
    },
    {
      "cell_type": "markdown",
      "metadata": {
        "id": "hzqUrTz4nFM5",
        "colab_type": "text"
      },
      "source": [
        "**COMPARISON OPERATORS**"
      ]
    },
    {
      "cell_type": "code",
      "metadata": {
        "id": "UO3qQJabnJWh",
        "colab_type": "code",
        "colab": {
          "base_uri": "https://localhost:8080/",
          "height": 101
        },
        "outputId": "787d74e9-c46c-4494-d352-f869af9080ca"
      },
      "source": [
        "# x=10\n",
        "# y=12\n",
        "\n",
        "#Code starts here\n",
        "# greater than\n",
        "is_greater = x > y\n",
        "# lesser than\n",
        "is_less = x < y\n",
        "# equal to\n",
        "is_equal = x == y\n",
        "\n",
        "# greater than or equal to\n",
        "is_greater_equal = x >= y\n",
        "# lesser than or equal to\n",
        "is_less_equal = x <= y\n",
        "\n",
        "print(is_greater)\n",
        "print(is_less)\n",
        "print(is_equal)\n",
        "print(is_greater_equal)\n",
        "print(is_less_equal)\n",
        "# Code ends here"
      ],
      "execution_count": 2,
      "outputs": [
        {
          "output_type": "stream",
          "text": [
            "True\n",
            "False\n",
            "False\n",
            "True\n",
            "False\n"
          ],
          "name": "stdout"
        }
      ]
    },
    {
      "cell_type": "markdown",
      "metadata": {
        "id": "8n8zTDKCoFeF",
        "colab_type": "text"
      },
      "source": [
        "**LOGICAL OPERATORS**"
      ]
    },
    {
      "cell_type": "code",
      "metadata": {
        "id": "khXpa-izoPW_",
        "colab_type": "code",
        "colab": {
          "base_uri": "https://localhost:8080/",
          "height": 50
        },
        "outputId": "165d6df2-243f-4ecf-9f60-4ccf273e0678"
      },
      "source": [
        "x, y = True, False\n",
        "# Code starts here\n",
        "# AND operation\n",
        "x_and_y = x and y\n",
        "# OR operation\n",
        "x_or_y = x or y\n",
        "print(x_and_y)\n",
        "print(x_or_y)\n",
        "# Code ends here"
      ],
      "execution_count": 1,
      "outputs": [
        {
          "output_type": "stream",
          "text": [
            "False\n",
            "True\n"
          ],
          "name": "stdout"
        }
      ]
    },
    {
      "cell_type": "markdown",
      "metadata": {
        "id": "6DwINGSX2Arq",
        "colab_type": "text"
      },
      "source": [
        "**MEMBERSHIP OPERATORS**"
      ]
    },
    {
      "cell_type": "code",
      "metadata": {
        "id": "uYYTTzvR2Etv",
        "colab_type": "code",
        "colab": {
          "base_uri": "https://localhost:8080/",
          "height": 50
        },
        "outputId": "4ee0c382-0acb-4822-c710-2dee343e0f20"
      },
      "source": [
        "# given variable\n",
        "name = \"John\"\n",
        "\n",
        "# Code starts here\n",
        "# check for memberships\n",
        "john = name in ['John','Rick']\n",
        "# Display variables\n",
        "hall = name in ['Hall','Rick']\n",
        "\n",
        "print(john)\n",
        "print(hall)\n",
        "# Code ends here"
      ],
      "execution_count": 2,
      "outputs": [
        {
          "output_type": "stream",
          "text": [
            "True\n",
            "False\n"
          ],
          "name": "stdout"
        }
      ]
    }
  ]
}