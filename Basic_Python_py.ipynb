{
  "nbformat": 4,
  "nbformat_minor": 0,
  "metadata": {
    "colab": {
      "name": "Basic-Python.py",
      "provenance": [],
      "toc_visible": true,
      "authorship_tag": "ABX9TyPPLV+gNAQEMYcF0QJyFBZq",
      "include_colab_link": true
    },
    "kernelspec": {
      "name": "python3",
      "display_name": "Python 3"
    }
  },
  "cells": [
    {
      "cell_type": "markdown",
      "metadata": {
        "id": "view-in-github",
        "colab_type": "text"
      },
      "source": [
        "<a href=\"https://colab.research.google.com/github/deepank120896/Learn-Data-Science/blob/master/Basic_Python_py.ipynb\" target=\"_parent\"><img src=\"https://colab.research.google.com/assets/colab-badge.svg\" alt=\"Open In Colab\"/></a>"
      ]
    },
    {
      "cell_type": "markdown",
      "metadata": {
        "id": "0ejRzQz0XOq3",
        "colab_type": "text"
      },
      "source": [
        "# Range in Python"
      ]
    },
    {
      "cell_type": "markdown",
      "metadata": {
        "id": "zY3NO3oFXV9v",
        "colab_type": "text"
      },
      "source": [
        "check a number lies between 2 and 5 inclusive"
      ]
    },
    {
      "cell_type": "code",
      "metadata": {
        "id": "SIut3yQgXb2l",
        "colab_type": "code",
        "outputId": "0eb9f33c-bb4e-4ac9-a444-c8faedb781d6",
        "colab": {
          "base_uri": "https://localhost:8080/",
          "height": 34
        }
      },
      "source": [
        "n=6\n",
        "\n",
        "if 2 <= n <= 5:\n",
        "  print(\"YES\")\n",
        "else:\n",
        "  print(\"NO\")"
      ],
      "execution_count": 0,
      "outputs": [
        {
          "output_type": "stream",
          "text": [
            "NO\n"
          ],
          "name": "stdout"
        }
      ]
    },
    {
      "cell_type": "markdown",
      "metadata": {
        "id": "1KuixPxUang3",
        "colab_type": "text"
      },
      "source": [
        "# Loops in python"
      ]
    },
    {
      "cell_type": "markdown",
      "metadata": {
        "id": "X5HnkCKEarsI",
        "colab_type": "text"
      },
      "source": [
        "**FOR LOOP:**\n",
        "Range(n): gives 0 to n-1"
      ]
    },
    {
      "cell_type": "code",
      "metadata": {
        "id": "DcbOeaXwauY8",
        "colab_type": "code",
        "outputId": "5abb488e-3947-4a51-9537-2f4f7db4c209",
        "colab": {
          "base_uri": "https://localhost:8080/",
          "height": 101
        }
      },
      "source": [
        "n=5\n",
        "for i in range(n):\n",
        "    print(i)"
      ],
      "execution_count": 0,
      "outputs": [
        {
          "output_type": "stream",
          "text": [
            "0\n",
            "1\n",
            "2\n",
            "3\n",
            "4\n"
          ],
          "name": "stdout"
        }
      ]
    },
    {
      "cell_type": "markdown",
      "metadata": {
        "id": "mUQOi8KIctyo",
        "colab_type": "text"
      },
      "source": [
        "# Leap Year "
      ]
    },
    {
      "cell_type": "markdown",
      "metadata": {
        "id": "6J7Nwt1yczFA",
        "colab_type": "text"
      },
      "source": [
        "The year can be evenly divided by 4, is a leap year, \n",
        "unless:\n",
        "      The year can be evenly divided by 100, it is NOT a leap year, \n",
        "      The year is also evenly divisible by 400. Then it is a leap year."
      ]
    },
    {
      "cell_type": "code",
      "metadata": {
        "id": "ACQM3NZNdBr7",
        "colab_type": "code",
        "outputId": "b92c1005-204c-4ec0-86af-013079d1a924",
        "colab": {
          "base_uri": "https://localhost:8080/",
          "height": 50
        }
      },
      "source": [
        "def is_leap(year):\n",
        "    leap = False\n",
        "    # Write your logic here\n",
        "    if year%4 == 0:\n",
        "        leap=True\n",
        "        if year%100 == 0:\n",
        "            leap=False\n",
        "        if year%400 == 0:\n",
        "            leap=True \n",
        "    return leap\n",
        "\n",
        "year = int(input())\n",
        "print(is_leap(year))"
      ],
      "execution_count": 0,
      "outputs": [
        {
          "output_type": "stream",
          "text": [
            "1990\n",
            "False\n"
          ],
          "name": "stdout"
        }
      ]
    },
    {
      "cell_type": "markdown",
      "metadata": {
        "id": "NtcW-Hq4el6L",
        "colab_type": "text"
      },
      "source": [
        "# Print Statement"
      ]
    },
    {
      "cell_type": "markdown",
      "metadata": {
        "id": "nbqzXdwBep4C",
        "colab_type": "text"
      },
      "source": [
        "**Single line v/s Multi-line**"
      ]
    },
    {
      "cell_type": "code",
      "metadata": {
        "id": "G3CgDmIZetXq",
        "colab_type": "code",
        "outputId": "840c7897-f528-4985-d77b-20766476d798",
        "colab": {
          "base_uri": "https://localhost:8080/",
          "height": 67
        }
      },
      "source": [
        "# Multi=line\n",
        "print(\"Deppank\")\n",
        "print(\"kartikey\")\n",
        "# Single Line\n",
        "print(\"Deepank\",end=\" \")\n",
        "print(\"kartikey\")"
      ],
      "execution_count": 0,
      "outputs": [
        {
          "output_type": "stream",
          "text": [
            "Deppank\n",
            "kartikey\n",
            "Deepank kartikey\n"
          ],
          "name": "stdout"
        }
      ]
    },
    {
      "cell_type": "markdown",
      "metadata": {
        "id": "dw3dVyq4BWoM",
        "colab_type": "text"
      },
      "source": [
        "# ljust, rjust, center"
      ]
    },
    {
      "cell_type": "markdown",
      "metadata": {
        "id": "leMNpYOGBcTb",
        "colab_type": "text"
      },
      "source": [
        "Justify display in python:\n",
        "left-justify, right-justify and center a string in a field of given width\n",
        "*   LJust: str.ljust(s, width[, fillchar]): left aligns the string according to the width specified and fills remaining space of line with blank space if ‘ fillchr ‘ argument is not passed.\n",
        "*   RJust: str.rjust(s, width[, fillchar]): \n",
        "*   Center: str.center(s, width[, fillchar]):\n",
        "\n",
        "\n",
        "\n"
      ]
    },
    {
      "cell_type": "code",
      "metadata": {
        "id": "Ooq3fU9uJ3Yd",
        "colab_type": "code",
        "outputId": "59ec15bc-6559-477d-f4fa-bcc216c22d9a",
        "colab": {
          "base_uri": "https://localhost:8080/",
          "height": 454
        }
      },
      "source": [
        "thickness = int(input()) #This must be an odd number\n",
        "c = 'H'\n",
        "\n",
        "#Top Cone\n",
        "for i in range(thickness):\n",
        "    print((c*i).rjust(thickness-1)+c+(c*i).ljust(thickness-1))\n",
        "\n",
        "#Top Pillars\n",
        "for i in range(thickness+1):\n",
        "    print((c*thickness).center(thickness*2)+(c*thickness).center(thickness*6))\n",
        "\n",
        "#Middle Belt\n",
        "for i in range((thickness+1)//2):\n",
        "    print((c*thickness*5).center(thickness*6)) \n",
        "\n",
        "#Bottom Pillars\n",
        "for i in range(thickness+1):\n",
        "    print((c*thickness).center(thickness*2)+(c*thickness).center(thickness*6)) \n",
        "    \n",
        "#Bottom Cone\n",
        "for i in range(thickness):\n",
        "    print(((c*(thickness-i-1)).rjust(thickness)+c+(c*(thickness-i-1)).ljust(thickness)).rjust(thickness*6))"
      ],
      "execution_count": 0,
      "outputs": [
        {
          "output_type": "stream",
          "text": [
            "5\n",
            "    H    \n",
            "   HHH   \n",
            "  HHHHH  \n",
            " HHHHHHH \n",
            "HHHHHHHHH\n",
            "  HHHHH               HHHHH             \n",
            "  HHHHH               HHHHH             \n",
            "  HHHHH               HHHHH             \n",
            "  HHHHH               HHHHH             \n",
            "  HHHHH               HHHHH             \n",
            "  HHHHH               HHHHH             \n",
            "  HHHHHHHHHHHHHHHHHHHHHHHHH   \n",
            "  HHHHHHHHHHHHHHHHHHHHHHHHH   \n",
            "  HHHHHHHHHHHHHHHHHHHHHHHHH   \n",
            "  HHHHH               HHHHH             \n",
            "  HHHHH               HHHHH             \n",
            "  HHHHH               HHHHH             \n",
            "  HHHHH               HHHHH             \n",
            "  HHHHH               HHHHH             \n",
            "  HHHHH               HHHHH             \n",
            "                    HHHHHHHHH \n",
            "                     HHHHHHH  \n",
            "                      HHHHH   \n",
            "                       HHH    \n",
            "                        H     \n"
          ],
          "name": "stdout"
        }
      ]
    },
    {
      "cell_type": "markdown",
      "metadata": {
        "id": "WJekKcq9Py0Y",
        "colab_type": "text"
      },
      "source": [
        "# Guess Output"
      ]
    },
    {
      "cell_type": "code",
      "metadata": {
        "id": "Nzg5Lhmy1z93",
        "colab_type": "code",
        "outputId": "aa7653f0-016a-467b-a2aa-f7d1e88bfb22",
        "colab": {
          "base_uri": "https://localhost:8080/",
          "height": 151
        }
      },
      "source": [
        "N,M=map(int,str(input()).split())\n",
        "for i in range(1,N,2):\n",
        "    print((i*\".|.\").center(M,'-'))\n",
        "print(\"WELCOME\".center(M,'-'))\n",
        "for i in range(N-2,0,-2):\n",
        "    print((i*\".|.\").center(M,'-'))"
      ],
      "execution_count": 0,
      "outputs": [
        {
          "output_type": "stream",
          "text": [
            "7 21\n",
            "---------.|.---------\n",
            "------.|..|..|.------\n",
            "---.|..|..|..|..|.---\n",
            "-------WELCOME-------\n",
            "---.|..|..|..|..|.---\n",
            "------.|..|..|.------\n",
            "---------.|.---------\n"
          ],
          "name": "stdout"
        }
      ]
    },
    {
      "cell_type": "code",
      "metadata": {
        "id": "jkdOt0nPP14l",
        "colab_type": "code",
        "outputId": "5647a139-bc1b-4ea8-9e2a-f4311d880053",
        "colab": {
          "base_uri": "https://localhost:8080/",
          "height": 168
        }
      },
      "source": [
        "    string, max_width = input(), int(input())\n",
        "    count = 0\n",
        "    for i in range(len(string)):\n",
        "        count+=1\n",
        "        if count < 4 :\n",
        "            print(string[i],end=\"\")\n",
        "        else :\n",
        "            count=0\n",
        "            print(string[i])"
      ],
      "execution_count": 0,
      "outputs": [
        {
          "output_type": "stream",
          "text": [
            "abcdefghijklmnopqrstuvwxyz\n",
            "4\n",
            "abcd\n",
            "efgh\n",
            "ijkl\n",
            "mnop\n",
            "qrst\n",
            "uvwx\n",
            "yz"
          ],
          "name": "stdout"
        }
      ]
    },
    {
      "cell_type": "markdown",
      "metadata": {
        "id": "YNkFY9bUSWiL",
        "colab_type": "text"
      },
      "source": [
        "# Textwrap Library"
      ]
    },
    {
      "cell_type": "markdown",
      "metadata": {
        "id": "fClhVzBTUpdO",
        "colab_type": "text"
      },
      "source": [
        "wrapper = textwrap.TextWrapper(width=max_width)\n",
        "* textwrap.wrap(text, width=70)- returns list\n",
        "* textwrap.fill(text, width=70)- returns string\n",
        "* textwrap.dedent(text)- \n",
        "* textwrap.shorten(text, width)- \n",
        "* textwrap.indent(text, prefix, predicate=None)- add prefix to lines of text\n",
        "\n"
      ]
    },
    {
      "cell_type": "markdown",
      "metadata": {
        "id": "sfT5V-wS81mb",
        "colab_type": "text"
      },
      "source": [
        "# Convert Decimal to other bases"
      ]
    },
    {
      "cell_type": "markdown",
      "metadata": {
        "id": "1vebnAeF87pJ",
        "colab_type": "text"
      },
      "source": [
        "* Octal - oct(number)\n",
        "* Hexadecimal -hex(number)\n",
        "* Binary -bin(number)"
      ]
    },
    {
      "cell_type": "code",
      "metadata": {
        "id": "Zab_qORa9KyA",
        "colab_type": "code",
        "outputId": "f85a6aa5-452f-43f0-9f71-8f13d96af72e",
        "colab": {
          "base_uri": "https://localhost:8080/",
          "height": 67
        }
      },
      "source": [
        "number=15\n",
        "print(oct(number))\n",
        "print(hex(number))\n",
        "print(bin(number))"
      ],
      "execution_count": 0,
      "outputs": [
        {
          "output_type": "stream",
          "text": [
            "0o17\n",
            "0xf\n",
            "0b1111\n"
          ],
          "name": "stdout"
        }
      ]
    }
  ]
}